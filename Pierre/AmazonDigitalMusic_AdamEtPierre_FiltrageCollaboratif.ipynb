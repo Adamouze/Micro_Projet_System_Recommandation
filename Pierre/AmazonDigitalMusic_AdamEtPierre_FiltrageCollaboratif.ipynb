{
 "cells": [
  {
   "cell_type": "markdown",
   "metadata": {},
   "source": [
    "# 0. Importation des Metadata pour avoir des informations sur les produits"
   ]
  },
  {
   "cell_type": "markdown",
   "metadata": {},
   "source": [
    "### Présentation du dataset de Metadata"
   ]
  },
  {
   "cell_type": "markdown",
   "metadata": {},
   "source": [
    "#### Schéma de données des metadata\n",
    "\n",
    "| Nom de la colonne | Type | Nullable |\n",
    "|-------------------|------|----------|\n",
    "| also_buy          | array<string> | true |\n",
    "| also_view         | array<string> | true |\n",
    "| asin              | string | true |\n",
    "| brand             | string | true |\n",
    "| category          | array<string> | true |\n",
    "| date              | string | true |\n",
    "| description       | array<string> | true |\n",
    "| details           | struct | true |\n",
    "| Item Weight       | string | true |\n",
    "| Product Dimensions| string | true |\n",
    "| ASIN::            | string | true |\n",
    "| ASIN:             | string | true |\n",
    "| Apparel           | string | true |\n",
    "| Audio CD          | string | true |\n",
    "| Audio Cassette    | string | true |\n",
    "| Blu-ray Audio     | string | true |\n",
    "| DVD               | string | true |\n",
    "| DVD Audio         | string | true |\n",
    "| Label::           | string | true |\n",
    "| MP3 Music         | string | true |\n",
    "| Note on Boxed Sets:: | string | true |\n",
    "| Number of Discs:: | string | true |\n",
    "| Original Release Date:: | string | true |\n",
    "| Please Note::     | string | true |\n",
    "| Run Time::        | string | true |\n",
    "| SPARS Code::      | string | true |\n",
    "| Shipping Weight:: | string | true |\n",
    "| UPC::             | string | true |\n",
    "| Vinyl             | string | true |\n",
    "| Vinyl Bound       | string | true |\n",
    "| feature           | array<string> | true |\n",
    "| fit               | string | true |\n",
    "| imageURL          | array<string> | true |\n",
    "| imageURLHighRes   | array<string> | true |\n",
    "| main_cat          | string | true |\n",
    "| price             | string | true |\n",
    "| rank              | string | true |\n",
    "| similar_item      | string | true |\n",
    "| tech1             | string | true |\n",
    "| tech2             | string | true |\n",
    "| title             | string | true |\n",
    "\n",
    "#### Nombre de lignes du DataFrame metadata_spark\n",
    "\n",
    "Nombre de lignes du DataFrame metadata : 74 347\n",
    "Le créateur du dataset indique qu'il existe 465 392 musiques différentes, nous les avons bien dans le dataset (*rating only*) mais en vérité, nous trouvons seulement 74 347 musiques différentes, ce qui fait que nous ne pouvons pas récupérer les informations de toutes les musiques.\n",
    "Pour remédier à cela, nous utiliserons les liens internet Amazon des musiques pour la partie filtrage collaboratif."
   ]
  },
  {
   "cell_type": "markdown",
   "metadata": {},
   "source": [
    "### Intialisation"
   ]
  },
  {
   "cell_type": "markdown",
   "metadata": {},
   "source": [
    "Utilisation de Spark pour gérer un grand nombre de données.\n",
    "Nous pouvons gérer un grand nombre d'enregistrement (10 000 dans notre exemple) assez rapidement."
   ]
  },
  {
   "cell_type": "code",
   "execution_count": 52,
   "metadata": {},
   "outputs": [
    {
     "name": "stdout",
     "output_type": "stream",
     "text": [
      "Nombre d'objets dans le fichier JSON: 74347\n",
      "root\n",
      " |-- also_buy: array (nullable = true)\n",
      " |    |-- element: string (containsNull = true)\n",
      " |-- also_view: array (nullable = true)\n",
      " |    |-- element: string (containsNull = true)\n",
      " |-- asin: string (nullable = true)\n",
      " |-- brand: string (nullable = true)\n",
      " |-- category: array (nullable = true)\n",
      " |    |-- element: string (containsNull = true)\n",
      " |-- date: string (nullable = true)\n",
      " |-- description: array (nullable = true)\n",
      " |    |-- element: string (containsNull = true)\n",
      " |-- details: struct (nullable = true)\n",
      " |    |-- \\n    Item Weight: \\n    : string (nullable = true)\n",
      " |    |-- \\n    Product Dimensions: \\n    : string (nullable = true)\n",
      " |    |-- ASIN:: string (nullable = true)\n",
      " |    |-- ASIN: : string (nullable = true)\n",
      " |    |-- Apparel: string (nullable = true)\n",
      " |    |-- Audio CD: string (nullable = true)\n",
      " |    |-- Audio Cassette: string (nullable = true)\n",
      " |    |-- Blu-ray Audio: string (nullable = true)\n",
      " |    |-- DVD: string (nullable = true)\n",
      " |    |-- DVD Audio: string (nullable = true)\n",
      " |    |-- Label:: string (nullable = true)\n",
      " |    |-- MP3 Music: string (nullable = true)\n",
      " |    |-- Note on Boxed Sets:: string (nullable = true)\n",
      " |    |-- Number of Discs:: string (nullable = true)\n",
      " |    |-- Original Release Date:: string (nullable = true)\n",
      " |    |-- Please Note:: string (nullable = true)\n",
      " |    |-- Run Time:: string (nullable = true)\n",
      " |    |-- SPARS Code:: string (nullable = true)\n",
      " |    |-- Shipping Weight:: string (nullable = true)\n",
      " |    |-- UPC:: string (nullable = true)\n",
      " |    |-- Vinyl: string (nullable = true)\n",
      " |    |-- Vinyl Bound: string (nullable = true)\n",
      " |-- feature: array (nullable = true)\n",
      " |    |-- element: string (containsNull = true)\n",
      " |-- fit: string (nullable = true)\n",
      " |-- imageURL: array (nullable = true)\n",
      " |    |-- element: string (containsNull = true)\n",
      " |-- imageURLHighRes: array (nullable = true)\n",
      " |    |-- element: string (containsNull = true)\n",
      " |-- main_cat: string (nullable = true)\n",
      " |-- price: string (nullable = true)\n",
      " |-- rank: string (nullable = true)\n",
      " |-- similar_item: string (nullable = true)\n",
      " |-- tech1: string (nullable = true)\n",
      " |-- tech2: string (nullable = true)\n",
      " |-- title: string (nullable = true)\n",
      "\n",
      "Nombre de lignes du DataFrame metadata_spark: 74347\n",
      "+------------------------------------------------------------------------------------------------------------------------------------------------------------------------------------------------------------------------------------------------------------------------------------------------------------------------------------------------------------------------------------------------------------------------------------------------------------------------------------------------------------------------------------+------------------------------------------------------------------------------------------------------------------------------------------------------------------------------------------------------------------------------------------------------------------------------------------------------------------------------------------------------------------------------------------------------------+----------+------------------------------------------------+--------+----+-------------------------------------------------------------------------------------------------------------------------------------------------------------------------------------------------------------------------------------------------------------------------------------------------------------------------------+-------+-------+---+-------------------------------------------------------------------------+------------------------------------------------------------------+--------------------------------------------------------------------------------------------------------------------------------------------------------------------------+------+----------------------------+------------+-----+-----+-------------------------------------------------------------+\n",
      "|also_buy                                                                                                                                                                                                                                                                                                                                                                                                                                                                                                                            |also_view                                                                                                                                                                                                                                                                                                                                                                                                   |asin      |brand                                           |category|date|description                                                                                                                                                                                                                                                                                                                    |details|feature|fit|imageURL                                                                 |imageURLHighRes                                                   |main_cat                                                                                                                                                                  |price |rank                        |similar_item|tech1|tech2|title                                                        |\n",
      "+------------------------------------------------------------------------------------------------------------------------------------------------------------------------------------------------------------------------------------------------------------------------------------------------------------------------------------------------------------------------------------------------------------------------------------------------------------------------------------------------------------------------------------+------------------------------------------------------------------------------------------------------------------------------------------------------------------------------------------------------------------------------------------------------------------------------------------------------------------------------------------------------------------------------------------------------------+----------+------------------------------------------------+--------+----+-------------------------------------------------------------------------------------------------------------------------------------------------------------------------------------------------------------------------------------------------------------------------------------------------------------------------------+-------+-------+---+-------------------------------------------------------------------------+------------------------------------------------------------------+--------------------------------------------------------------------------------------------------------------------------------------------------------------------------+------+----------------------------+------------+-----+-----+-------------------------------------------------------------+\n",
      "|[B000002UEN, B000008LD5, B01J804JKE, 7474034352, B004ZLBTXW, B000008LDH, B000TGKXJ8, B0000AM6KG, B0001XJ372, B001CFLHMC, B0007VO57G, B000005KVI, B0000251O2, B07FDMZ233, B000008LD9, B000008LDL, 0006935257, B07BHDLHH9, B00004WJ8I, B000008LDC, B000008LDI, B000002BLF, B000KNOC5G, B00079YLZ4, B000002GHQ, B07DXQ4SY4, B01NAIVYTN, 0785273425, B000E8CM5O, B000008N3O, B0000288NN, 0439763096, B000A79M1G, B00005OACU, B000008LDG, B00000JY96, B0002N61QC, B000008LDK, B00004UU0Y, B0000275JN, B000008LDN, B000008LDP, B000008ORJ]|[B000002UEN, B000008LD5, 7474034352, B000008LDH, B004ZLBTXW, B0001XJ372, B001CFLHMC, B01J804JKE, B000008LDC, B000TGKXJ8, 0819815802, B0007VO57G, B0000AM6KG, B000CD3LOM, B0000251O2, B000008LDL, B00FEFQSYS, 0006882919, B000088E97, B004U7FROI, B000IHYWAY, B000008LD9, B000003YLI, B0000288NN, B004OBGJHE, B00004WJ8I, B000008LDK, 0345538374, B000E8CM5O, B003JOO5ZA, B00005OACU, B00000JY96, 0879464003]|0001377647|John Michael Talbot                             |[]      |    |[]                                                                                                                                                                                                                                                                                                                             |NULL   |[]     |   |[]                                                                       |[]                                                                |<img src=\"https://images-na.ssl-images-amazon.com/images/G/01/digital/music/logos/amzn_music_logo_subnav._CB471835632_.png\" class=\"nav-categ-image\" alt=\"Digital Music\"/> |$18.99|58,291 in CDs & Vinyl (     |            |     |     |Master Collection Volume One                                 |\n",
      "|[5558154950, B00014K5V4]                                                                                                                                                                                                                                                                                                                                                                                                                                                                                                            |[B000008KJ3, B000008KJ0, 5558154950, B000UN8KZE, B000008KJ4]                                                                                                                                                                                                                                                                                                                                                |0001529145|Second Chapter of Acts                          |[]      |    |[]                                                                                                                                                                                                                                                                                                                             |NULL   |[]     |   |[]                                                                       |[]                                                                |<img src=\"https://images-na.ssl-images-amazon.com/images/G/01/digital/music/logos/amzn_music_logo_subnav._CB471835632_.png\" class=\"nav-categ-image\" alt=\"Digital Music\"/> |      |93,164 in CDs & Vinyl (     |            |     |     |Hymns Collection: Hymns 1 &amp; 2                            |\n",
      "|[B00004RC05, B003H8F4NA, B003ZFVHPO, B003JMP1ZK, B00000E8IS, B0000288OZ, 0760135886, B00125WECY, B000YQ2IOQ, B00007E8O0, B00111KUXY, B0002BARHI, B006R6Q6EU, B000075A86]                                                                                                                                                                                                                                                                                                                                                            |[B003H8F4NA, B003ZFVHPO, B003JMP1ZK, B00004RC05, 0760135886, B00007E8O0, B000YQ2IOQ, B00125WECY, B00111KUXY]                                                                                                                                                                                                                                                                                                |0001527134|Don Francisco                                   |[]      |    |[]                                                                                                                                                                                                                                                                                                                             |NULL   |[]     |   |[]                                                                       |[]                                                                |<img src=\"https://images-na.ssl-images-amazon.com/images/G/01/digital/music/logos/amzn_music_logo_subnav._CB471835632_.png\" class=\"nav-categ-image\" alt=\"Digital Music\"/> |      |875,825 in CDs & Vinyl (    |            |     |     |Early Works - Don Francisco                                  |\n",
      "|[B0000275QQ, 0001393774, 0001388312, B0016CP2GS, B00P826ZRM, 1595551646, B0001YY7P4, B00000I7JO, B00000I9AH, B0000047XZ, B000075A86, B07896NHMK, B0002EZZMC, B0000031DI, B000008KJ8, 0793579805]                                                                                                                                                                                                                                                                                                                                    |[B00000I7JO, B0016CP2GS, 0001393774, B0000275QQ, B00000I9AH, B0001YY7P4, B0002EZZMC, B00P826ZRM, B000OJKH78, B000075A86, B00412UE18, B000000V4U]                                                                                                                                                                                                                                                            |0001388703|Keith Green                                     |[]      |    |[]                                                                                                                                                                                                                                                                                                                             |NULL   |[]     |   |[]                                                                       |[]                                                                |<img src=\"https://images-na.ssl-images-amazon.com/images/G/01/digital/music/logos/amzn_music_logo_subnav._CB471835632_.png\" class=\"nav-categ-image\" alt=\"Digital Music\"/> |$13.01|203,263 in CDs & Vinyl (    |            |     |     |So You Wanna Go Back to Egypt                                |\n",
      "|[B0002N4JP2, 0760131694, B00002EQ79, B00150K8JC, B00007E8SE, B00000387A, B000I0QKB0, B000025Q0M, B000008QP3, B000FAMYIG, B0009WA252, B0016CP2GS, B016E9NE9Y, B000002UEN, B000T5MJN2, B003H8F4NA, B00004RC05, B000A0GP04, B00004RC01, B00004YNA4, B016E9NEN0, B00BS96UG0, B00BS96XJY, B00BS96Y9S, B00BS96WX6]                                                                                                                                                                                                                        |[B0002N4JP2, 0760131694, B00150K8JC, B003MTXNVE, B00007E8SE, B00000DPJN, B00000387A, B0009WA252, B000008QP3, B00KYVH4VI]                                                                                                                                                                                                                                                                                    |0001526146|Dallas Holm                                     |[]      |    |[1. Losing Game 2. I Can't Wait 3. Didn't He Shine 4. Never Seen...Righteous... 5. A Broken Heart 6. Looking Back 7. Here We Are 8. I Saw The Lord 9. Jesus Is A River Of Love 10. Hittin' The Road 11. I've Never Been Out Of... 12. Jesus Gotta Hold Of My Life 13. Saved- Saved- Saved 14. What Will You Do? 15. Rise Again]|NULL   |[]     |   |[]                                                                       |[]                                                                |<img src=\"https://images-na.ssl-images-amazon.com/images/G/01/digital/music/logos/amzn_music_logo_subnav._CB471835632_.png\" class=\"nav-categ-image\" alt=\"Digital Music\"/> |      |399,269 in CDs & Vinyl (    |            |     |     |Early Works - Dallas Holm                                    |\n",
      "|[]                                                                                                                                                                                                                                                                                                                                                                                                                                                                                                                                  |[]                                                                                                                                                                                                                                                                                                                                                                                                          |0005096421|Michael Faircloth                               |[]      |    |[]                                                                                                                                                                                                                                                                                                                             |NULL   |[]     |   |[]                                                                       |[]                                                                |<img src=\"https://images-na.ssl-images-amazon.com/images/G/01/digital/music/logos/amzn_music_logo_subnav._CB471835632_.png\" class=\"nav-categ-image\" alt=\"Digital Music\"/> |      |779,669 in CDs & Vinyl (    |            |     |     |The Glory of Love (Solo Piano)                               |\n",
      "|[]                                                                                                                                                                                                                                                                                                                                                                                                                                                                                                                                  |[B0001XJ372, B000002UEN, 0001377647, B000E8CM5O, B01J804JKE, B000KNOC5G, B004ZLBTXW]                                                                                                                                                                                                                                                                                                                        |0006882919|John Michael Talbot                             |[]      |    |[]                                                                                                                                                                                                                                                                                                                             |NULL   |[]     |   |[https://images-na.ssl-images-amazon.com/images/I/41VHRW2GMEL._SS40_.jpg]|[https://images-na.ssl-images-amazon.com/images/I/41VHRW2GMEL.jpg]|<img src=\"https://images-na.ssl-images-amazon.com/images/G/01/digital/music/logos/amzn_music_logo_subnav._CB471835632_.png\" class=\"nav-categ-image\" alt=\"Digital Music\" />|$5.95 |444,064 in CDs &amp; Vinyl (|            |     |     |Songs for Worship: Volumes 1 and 2                           |\n",
      "|[0830838015, B000FOQ0PK, B000008E0F, B000008E0L, 0830838023, B00190TXSA, 083083804X, B000SKF5LQ, B002YOLORS, B000008E0K, B000GS5DTY, B000005KXG, B00DSAUO9G, B000SSLWCO, B000063K31, B000063RU7, B0002BARHI, B01N7UHKP0, B00008FTDH, 0793566932, B000005KX7, 157683669X, B000024T28, B0000288P0, 0001393774, 0310519292]                                                                                                                                                                                                            |[B00190TXSA, B000005KXG, B000FOQ0PK, B000008E0F, 0830838015, B000SKF5LQ, B000008E0O, B002YOLORS, 083083804X, B000008E0L, B0788YNVFZ, 0830838023, B01MFEBQH1]                                                                                                                                                                                                                                                |0006920055|Michael Card                                    |[]      |    |[]                                                                                                                                                                                                                                                                                                                             |NULL   |[]     |   |[https://images-na.ssl-images-amazon.com/images/I/413nmchxMQL._SS40_.jpg]|[https://images-na.ssl-images-amazon.com/images/I/413nmchxMQL.jpg]|<img src=\"https://images-na.ssl-images-amazon.com/images/G/01/digital/music/logos/amzn_music_logo_subnav._CB471835632_.png\" class=\"nav-categ-image\" alt=\"Digital Music\" />|$34.98|36,667 in CDs &amp; Vinyl ( |            |     |     |The Life: The Complete Recorded Trilogy on the Life of Christ|\n",
      "|[B000008LD5, B000002UEN, B000008LDH, B0000AM6KG, B004ZLBTXW, 0001377647, B00079YLZ4, B001CFLHMC, B00004WJ8I, B000E8CM5O, 7474034352, B000008LDL, B0000288NN, B0007VO57G, B000008LD9, B000TGKXJ8, B000002BLF, B00004UU0Y, B0001XJ372]                                                                                                                                                                                                                                                                                                |[B000008LDH, B000008LD5, B01J804JKE, B000002UEN]                                                                                                                                                                                                                                                                                                                                                            |0006935257|John Michael Talbot                             |[]      |    |[]                                                                                                                                                                                                                                                                                                                             |NULL   |[]     |   |[]                                                                       |[]                                                                |<img src=\"https://images-na.ssl-images-amazon.com/images/G/01/digital/music/logos/amzn_music_logo_subnav._CB471835632_.png\" class=\"nav-categ-image\" alt=\"Digital Music\"/> |      |147,412 in CDs & Vinyl (    |            |     |     |The Lord's Supper / Be Exalted                               |\n",
      "|[]                                                                                                                                                                                                                                                                                                                                                                                                                                                                                                                                  |[]                                                                                                                                                                                                                                                                                                                                                                                                          |0159024684|Totally Catholic Summer Program - Crocodile Dock|[]      |    |[.]                                                                                                                                                                                                                                                                                                                            |NULL   |[]     |   |[https://images-na.ssl-images-amazon.com/images/I/51cHu9cSrqL._SS40_.jpg]|[https://images-na.ssl-images-amazon.com/images/I/51cHu9cSrqL.jpg]|<img src=\"https://m.media-amazon.com/images/G/01/digital/music/logos/amzn_music_logo_subnav._CB471835632_.png\" class=\"nav-categ-image\" alt=\"Digital Music\"/>              |$6.98 |774,772 in CDs & Vinyl (    |            |     |     |Sing &amp; Play Swamp Stomp Music                            |\n",
      "+------------------------------------------------------------------------------------------------------------------------------------------------------------------------------------------------------------------------------------------------------------------------------------------------------------------------------------------------------------------------------------------------------------------------------------------------------------------------------------------------------------------------------------+------------------------------------------------------------------------------------------------------------------------------------------------------------------------------------------------------------------------------------------------------------------------------------------------------------------------------------------------------------------------------------------------------------+----------+------------------------------------------------+--------+----+-------------------------------------------------------------------------------------------------------------------------------------------------------------------------------------------------------------------------------------------------------------------------------------------------------------------------------+-------+-------+---+-------------------------------------------------------------------------+------------------------------------------------------------------+--------------------------------------------------------------------------------------------------------------------------------------------------------------------------+------+----------------------------+------------+-----+-----+-------------------------------------------------------------+\n",
      "only showing top 10 rows\n",
      "\n",
      "Temps d'exécution de la requête des 10000 premières lignes: 0.1560039520263672 secondes\n"
     ]
    }
   ],
   "source": [
    "from pyspark.sql import SparkSession\n",
    "from pyspark.sql.types import StructType, StructField, StringType, FloatType, IntegerType, BooleanType, ArrayType, MapType\n",
    "import gzip\n",
    "import shutil\n",
    "import time\n",
    "\n",
    "# Chemin du fichier compressé\n",
    "compressed_file_path = '../meta_Digital_Music.json.gz'\n",
    "# Chemin du fichier décompressé\n",
    "decompressed_file_path = '../meta_Digital_Music.jsonl'\n",
    "\n",
    "# Décompression du fichier\n",
    "with gzip.open(compressed_file_path, 'rb') as f_in:\n",
    "    with open(decompressed_file_path, 'wb') as f_out:\n",
    "        shutil.copyfileobj(f_in, f_out)\n",
    "\n",
    "meta_datas = decompressed_file_path\n",
    "# Vérification du nombre d'objets dans le fichier JSON\n",
    "\n",
    "with open(decompressed_file_path, 'r') as file:\n",
    "    num_lines = sum(1 for line in file)\n",
    "print(f\"Nombre d'objets dans le fichier JSON: {num_lines}\")\n",
    "\n",
    "# Créer une session Spark\n",
    "spark = SparkSession.builder.appName(\"AmazonDigitalMusicMetadata\").getOrCreate()\n",
    "\n",
    "# Charger les données JSON en DataFrame Spark en utilisant les schémas définis\n",
    "metadata_spark = spark.read.json(meta_datas)\n",
    "\n",
    "# Afficher le schéma pour vérifier la structure des données\n",
    "metadata_spark.printSchema()\n",
    "\n",
    "# Afficher le nombre de lignes du DataFrame\n",
    "print(f\"Nombre de lignes du DataFrame metadata_spark: {metadata_spark.count()}\")\n",
    "\n",
    "# Afficher les 10000 premières lignes du DataFrame et évaluer le temps de réponse\n",
    "start_time = time.time()\n",
    "metadata_spark.show(10, truncate=False)\n",
    "end_time = time.time()\n",
    "\n",
    "print(f\"Temps d'exécution de la requête des 10000 premières lignes: {end_time - start_time} secondes\")"
   ]
  },
  {
   "cell_type": "markdown",
   "metadata": {},
   "source": [
    "### Fonction de récupération des informations sur une musique en fonction de son ID (*asin*)"
   ]
  },
  {
   "cell_type": "code",
   "execution_count": 53,
   "metadata": {},
   "outputs": [],
   "source": [
    "def get_music_info(asin):\n",
    "    \"\"\"\n",
    "    Récupère les informations sur un produit en fonction de son ID (asin).\n",
    "    \n",
    "    Arguments:\n",
    "        asin: identifiant du produit (asin)\n",
    "    \n",
    "    Retourne:\n",
    "        DataFrame contenant les informations du produit\n",
    "    \"\"\"\n",
    "    music_info = metadata_spark.filter(metadata_spark.asin == asin).orderBy(metadata_spark.columns, ascending=False).limit(1)\n",
    "    return music_info"
   ]
  },
  {
   "cell_type": "markdown",
   "metadata": {},
   "source": [
    "Exemple d'utilisation :"
   ]
  },
  {
   "cell_type": "code",
   "execution_count": 54,
   "metadata": {},
   "outputs": [
    {
     "name": "stdout",
     "output_type": "stream",
     "text": [
      "+------------------------------------------------------------------------------------------------------------------------------------------------------------------------------------------------------------------------------------------------------------------------------------------------------------------------------------------------------------------------------------------------------------------------------------------------------------------------------------------------------------------------------------------------------------------------------------------------------------------------------------------------------------------------------------------------------------------------------------------------------------------------------------------------------------------------------------------------------------------------------------------------------------------------------------------------------------------------------------------------------------------------------------------------------------------------------------------------------------------------------------------------------------------------------------------------------------+------------------------------------------------------------------------------------------------------------------------------------------------------------------------------------------------------------------------------------------------------------------------------------------------------------------------------------------------------------------------------------------------------------------------------------------------------------------------------------------------------------------------------------------------------------------------------------------------------------------------------------------------------------------------------------------------------------------------------------+----------+---------------+--------+----+--------------------------------------------------------------------------------------------------------------------------------------------------------------------------------------------------------------------------------------------------------------------------------------------------------------------------------------------------------------------------------------------------------------------------------------------------------------------------------------------------------------------------------------------------------------------------------------------------------------------------------------------------------------------------------------------------------------------------------------------------------+---------------------------------------------------------------------------------------------------------------------------------------+-------+---+--------+---------------+-------------------------------------------------------------------------------------------------------------------------------------------------------------------------+-----+--------------------------+------------+-----+-----+---------+\n",
      "|also_buy                                                                                                                                                                                                                                                                                                                                                                                                                                                                                                                                                                                                                                                                                                                                                                                                                                                                                                                                                                                                                                                                                                                                                                                                    |also_view                                                                                                                                                                                                                                                                                                                                                                                                                                                                                                                                                                                                                                                                                                                           |asin      |brand          |category|date|description                                                                                                                                                                                                                                                                                                                                                                                                                                                                                                                                                                                                                                                                                                                                             |details                                                                                                                                |feature|fit|imageURL|imageURLHighRes|main_cat                                                                                                                                                                 |price|rank                      |similar_item|tech1|tech2|title    |\n",
      "+------------------------------------------------------------------------------------------------------------------------------------------------------------------------------------------------------------------------------------------------------------------------------------------------------------------------------------------------------------------------------------------------------------------------------------------------------------------------------------------------------------------------------------------------------------------------------------------------------------------------------------------------------------------------------------------------------------------------------------------------------------------------------------------------------------------------------------------------------------------------------------------------------------------------------------------------------------------------------------------------------------------------------------------------------------------------------------------------------------------------------------------------------------------------------------------------------------+------------------------------------------------------------------------------------------------------------------------------------------------------------------------------------------------------------------------------------------------------------------------------------------------------------------------------------------------------------------------------------------------------------------------------------------------------------------------------------------------------------------------------------------------------------------------------------------------------------------------------------------------------------------------------------------------------------------------------------+----------+---------------+--------+----+--------------------------------------------------------------------------------------------------------------------------------------------------------------------------------------------------------------------------------------------------------------------------------------------------------------------------------------------------------------------------------------------------------------------------------------------------------------------------------------------------------------------------------------------------------------------------------------------------------------------------------------------------------------------------------------------------------------------------------------------------------+---------------------------------------------------------------------------------------------------------------------------------------+-------+---+--------+---------------+-------------------------------------------------------------------------------------------------------------------------------------------------------------------------+-----+--------------------------+------------+-----+-----+---------+\n",
      "|[B0000DJE9R, B00VSHH9GC, B00005M989, B00VSHH95I, B0084I9QFU, B0000029LG, B000E6EHI6, B00002DDPG, B00005Q4JH, B000WS4QJG, B01MDP1PZY, B000002LND, B000A2RRF4, B00006S041, B07B16RHBG, B0002XH9Z4, B00000DCHI, B00000FC5H, B074R45D51, B002TYZKIM, B000BGR0SS, B075VWL9C1, B00006AG5N, B00006JIA4, B002Q4U9YU, B005EKWYQO, B000001A9Y, B01I3RK038, B00005OSX8, B000002B30, B000002MNF, B01576X5DK, B07B12HN7C, B00004R84V, B00006JL1Z, B016W63RR8, B000002G3Y, B00008PX8X, B00000JWN0, B0002M5U88, B00000DG1R, B00094AT4O, B00007E8W2, B0033TJATW, 0307716988, B07143J5MM, B003YNFYCO, B000002JO6, B000EHQ800, B0000032XY, B00005BC9B, B06XRYS3H2, B000929AVE, B00000DHRX, B000001ABD, B000EHQ80K, B000046PUT, B000083E79, B01N30GXOI, B016W64G9Q, B00795C5RU, B01FND51HK, B009J2VR3Y, B000CCBBZ4, B00JDB4PEY, B002QEXN4I, B002PBA8QI, B000002G43, B0000CD5FR, B0000682ZL, B075N32S3B, B0009YNSJW, B005BX3NAA, B016LCH7GA, B00KCUY7CU, B0019M6354, B01MXTGBKP, B000059QYB, B00005LNBZ, B000KX0HVY, B000640PL4, B001EI5BZQ, B07GRVVYNC, B01B2M9RM6, B004ZNB12O, B000093BDX, B071FVJTCM, B000UCEJDC, B00022LOTM, B002KREVEC, B000G7PNKO, B00005R1Q9, B0000669JL, B007TC1VDM, B0766L5R8M, B009IRVSVQ, B01LYRM74T]|[B01B2M9H76, B0000DJE9R, B0011ETNXE, B01B2M9RM6, B000058T7B, B0002XH9Z4, B0000029LG, B00VSHH95I, B000056VG0, B07B12HN7C, B000001A8C, B01B2M9M58, B07B16RHBG, B00005Q4JH, B002Q4U9YU, B00DOJCTI0, B0037U9PXI, B00192IV9U, B0757G5PXY, B00JDB4PEY, B00005M989, B00002DDPG, B000001A9Y, B000XFY3H8, B000051Y3C, B07FSYMF7L, B00DBATFL6, B07BF39RM1, B01A7EOJLY, B000001ADR, B07FSYMN2S, B000002MNF, B00005A1T1, B002TYZKIM, B0012GMWMA, B000002LND, B000E6EHI6, B01MDP1PZY, B000A2RRF4, B00020JPI6, B00IZQPSTO, B07FTDD3P8, B005R4255C, B071KWXJHG, B000091D5U, B009J2VR3Y, B07GT2J152, B004498KPU, B0000TB014, B00006JSS8, B0084I9QIW, B002PBA8QI, B00000AZ8P, B000002G43, B0002M5U88, 1573300403, B077Y2K5RD, B0007OY456, B00006JIA4]|7799420340|Michael Jackson|[]      |    |[CD 101.I Want You Back02.ABC03.The Love You Save04.Got To Be There05.Rockin' Robin06.Ben07.Blame It On The Boogie08.Shake Your Body (Down To The Ground)09.Dont't Stop Til You Get Enough10.Off The Wall11.Rock With You12.She's Out Of My Life13.Can You Feel It14.The Girls Is Mine15.Billie Jean16.Beat It17.Wanna Be Startin' Somethin'18.Human Nature19.P.Y.T(Pretty Young Thing)20.I Just Can't Stop Loving You21.ThrillerCD 201.Bad02.The Way You Make Me Feel03.Man In The Mirror04.Dirty Diana05.Another Part Of Me06.Smooth Criminal07.Leave Me Alone08.Black Or White09.Remember The Time10.In The Closet11.Who Is It12.Heal The World13.Will You Be There14.You Are Not Alone15.Earth Song16.They Dont't Care About Us17.You Rock My World]|{NULL, NULL, 7799420340, NULL, NULL, NULL, NULL, NULL, NULL, NULL, NULL, NULL, NULL, 2, NULL, NULL, NULL, NULL, NULL, NULL, NULL, NULL}|[]     |   |[]      |[]             |<img src=\"https://images-na.ssl-images-amazon.com/images/G/01/digital/music/logos/amzn_music_logo_subnav._CB471835632_.png\" class=\"nav-categ-image\" alt=\"Digital Music\"/>|     |1,600,606 in CDs & Vinyl (|            |     |     |Essential|\n",
      "+------------------------------------------------------------------------------------------------------------------------------------------------------------------------------------------------------------------------------------------------------------------------------------------------------------------------------------------------------------------------------------------------------------------------------------------------------------------------------------------------------------------------------------------------------------------------------------------------------------------------------------------------------------------------------------------------------------------------------------------------------------------------------------------------------------------------------------------------------------------------------------------------------------------------------------------------------------------------------------------------------------------------------------------------------------------------------------------------------------------------------------------------------------------------------------------------------------+------------------------------------------------------------------------------------------------------------------------------------------------------------------------------------------------------------------------------------------------------------------------------------------------------------------------------------------------------------------------------------------------------------------------------------------------------------------------------------------------------------------------------------------------------------------------------------------------------------------------------------------------------------------------------------------------------------------------------------+----------+---------------+--------+----+--------------------------------------------------------------------------------------------------------------------------------------------------------------------------------------------------------------------------------------------------------------------------------------------------------------------------------------------------------------------------------------------------------------------------------------------------------------------------------------------------------------------------------------------------------------------------------------------------------------------------------------------------------------------------------------------------------------------------------------------------------+---------------------------------------------------------------------------------------------------------------------------------------+-------+---+--------+---------------+-------------------------------------------------------------------------------------------------------------------------------------------------------------------------+-----+--------------------------+------------+-----+-----+---------+\n",
      "\n",
      "+---------+\n",
      "|title    |\n",
      "+---------+\n",
      "|Essential|\n",
      "+---------+\n",
      "\n",
      "+------------------------------------------------------------------------------------------------------------------------------------------------------------------------------------------------------------------------------------------------------------------------------------------------------------------------------------------------------------------------------------------------------------------------------------------------------------------------------------------------------------------------------------------------------------------------------------------------------------------------------------------------------------------------------------------------------------------------------------------------------------------------------------------------------------------------------------------------------------------------------------------------------------------------------------------------------------------------------------------------------------------------------------------------------------------------------------------------------------------------------------------------------------------------------------------------------------+\n",
      "|also_buy                                                                                                                                                                                                                                                                                                                                                                                                                                                                                                                                                                                                                                                                                                                                                                                                                                                                                                                                                                                                                                                                                                                                                                                                    |\n",
      "+------------------------------------------------------------------------------------------------------------------------------------------------------------------------------------------------------------------------------------------------------------------------------------------------------------------------------------------------------------------------------------------------------------------------------------------------------------------------------------------------------------------------------------------------------------------------------------------------------------------------------------------------------------------------------------------------------------------------------------------------------------------------------------------------------------------------------------------------------------------------------------------------------------------------------------------------------------------------------------------------------------------------------------------------------------------------------------------------------------------------------------------------------------------------------------------------------------+\n",
      "|[B0000DJE9R, B00VSHH9GC, B00005M989, B00VSHH95I, B0084I9QFU, B0000029LG, B000E6EHI6, B00002DDPG, B00005Q4JH, B000WS4QJG, B01MDP1PZY, B000002LND, B000A2RRF4, B00006S041, B07B16RHBG, B0002XH9Z4, B00000DCHI, B00000FC5H, B074R45D51, B002TYZKIM, B000BGR0SS, B075VWL9C1, B00006AG5N, B00006JIA4, B002Q4U9YU, B005EKWYQO, B000001A9Y, B01I3RK038, B00005OSX8, B000002B30, B000002MNF, B01576X5DK, B07B12HN7C, B00004R84V, B00006JL1Z, B016W63RR8, B000002G3Y, B00008PX8X, B00000JWN0, B0002M5U88, B00000DG1R, B00094AT4O, B00007E8W2, B0033TJATW, 0307716988, B07143J5MM, B003YNFYCO, B000002JO6, B000EHQ800, B0000032XY, B00005BC9B, B06XRYS3H2, B000929AVE, B00000DHRX, B000001ABD, B000EHQ80K, B000046PUT, B000083E79, B01N30GXOI, B016W64G9Q, B00795C5RU, B01FND51HK, B009J2VR3Y, B000CCBBZ4, B00JDB4PEY, B002QEXN4I, B002PBA8QI, B000002G43, B0000CD5FR, B0000682ZL, B075N32S3B, B0009YNSJW, B005BX3NAA, B016LCH7GA, B00KCUY7CU, B0019M6354, B01MXTGBKP, B000059QYB, B00005LNBZ, B000KX0HVY, B000640PL4, B001EI5BZQ, B07GRVVYNC, B01B2M9RM6, B004ZNB12O, B000093BDX, B071FVJTCM, B000UCEJDC, B00022LOTM, B002KREVEC, B000G7PNKO, B00005R1Q9, B0000669JL, B007TC1VDM, B0766L5R8M, B009IRVSVQ, B01LYRM74T]|\n",
      "+------------------------------------------------------------------------------------------------------------------------------------------------------------------------------------------------------------------------------------------------------------------------------------------------------------------------------------------------------------------------------------------------------------------------------------------------------------------------------------------------------------------------------------------------------------------------------------------------------------------------------------------------------------------------------------------------------------------------------------------------------------------------------------------------------------------------------------------------------------------------------------------------------------------------------------------------------------------------------------------------------------------------------------------------------------------------------------------------------------------------------------------------------------------------------------------------------------+\n",
      "\n",
      "B0000DJE9R\n"
     ]
    }
   ],
   "source": [
    "asin = \"7799420340\"\n",
    "\n",
    "music_info = get_music_info(asin)\n",
    "\n",
    "# Afficher les informations du produit\n",
    "music_info.show(truncate=False)\n",
    "\n",
    "# Afficher la colonne \"title\" du produit\n",
    "music_info.select(\"title\").show(truncate=False)\n",
    "\n",
    "# Afficher la colonne \"also_buy\" du produit\n",
    "music_info.select(\"also_buy\").show(truncate=False)\n",
    "\n",
    "# Afficher le premier élément de la colonne \"also_buy\" du produit\n",
    "first_also_buy = music_info.select(\"also_buy\").first()[\"also_buy\"][0]\n",
    "print(first_also_buy)\n"
   ]
  },
  {
   "cell_type": "code",
   "execution_count": 55,
   "metadata": {},
   "outputs": [],
   "source": [
    "import requests\n",
    "from bs4 import BeautifulSoup\n",
    "from IPython.display import Image, display\n",
    "def get_image_url(asin):\n",
    "    url = f\"https://www.amazon.com/dp/{asin}/\"\n",
    "    headers = {\"User-Agent\": \"Mozilla/5.0 (Windows NT 10.0; Win64; x64) AppleWebKit/537.36 (KHTML, like Gecko) Chrome/58.0.3029.110 Safari/537.3\"}\n",
    "    response = requests.get(url, headers=headers)\n",
    "    soup = BeautifulSoup(response.content, \"html.parser\")\n",
    "    image_element = soup.select_one(\"#landingImage\")\n",
    "    if image_element:\n",
    "        image_url = image_element[\"src\"]\n",
    "        return image_url\n",
    "    else:\n",
    "        return None"
   ]
  },
  {
   "cell_type": "markdown",
   "metadata": {},
   "source": [
    "# 1. Filtrage collaboratif"
   ]
  },
  {
   "cell_type": "markdown",
   "metadata": {},
   "source": [
    "## 1. Exploration des données\n",
    "\n",
    "#### Choix des données:\n",
    "Nous avons choisi comme données les **\"Amazon Review Data\" de 2018**, plus précisément un **sous-ensemble** de la catégorie **\"Digital Music\"** (\"Small subsets for experimentation\").\n",
    "\n",
    "#### Le fichier utilisé est disponible aux adresses suivantes:\n",
    "- https://nijianmo.github.io/amazon/index.html **-> \"Digital Music ratings only (1,584,082 ratings)\"**\n",
    "- https://jmcauley.ucsd.edu/data/amazon_v2/categoryFilesSmall/Digital_Music.csv *(lien direct)*"
   ]
  },
  {
   "cell_type": "code",
   "execution_count": 56,
   "metadata": {},
   "outputs": [],
   "source": [
    "import numpy as np\n",
    "import pandas as pd\n",
    "import sklearn\n",
    "import matplotlib.pyplot as plt\n",
    "import seaborn as sns\n",
    "\n",
    "import warnings\n",
    "warnings.simplefilter(action='ignore', category=FutureWarning)"
   ]
  },
  {
   "cell_type": "markdown",
   "metadata": {},
   "source": [
    "### Lecture des données et print des 5 premières lignes"
   ]
  },
  {
   "cell_type": "code",
   "execution_count": 57,
   "metadata": {},
   "outputs": [
    {
     "data": {
      "text/html": [
       "<div>\n",
       "<style scoped>\n",
       "    .dataframe tbody tr th:only-of-type {\n",
       "        vertical-align: middle;\n",
       "    }\n",
       "\n",
       "    .dataframe tbody tr th {\n",
       "        vertical-align: top;\n",
       "    }\n",
       "\n",
       "    .dataframe thead th {\n",
       "        text-align: right;\n",
       "    }\n",
       "</style>\n",
       "<table border=\"1\" class=\"dataframe\">\n",
       "  <thead>\n",
       "    <tr style=\"text-align: right;\">\n",
       "      <th></th>\n",
       "      <th>product_asin</th>\n",
       "      <th>user_id</th>\n",
       "      <th>rating</th>\n",
       "      <th>timestamp</th>\n",
       "    </tr>\n",
       "  </thead>\n",
       "  <tbody>\n",
       "    <tr>\n",
       "      <th>0</th>\n",
       "      <td>0001388703</td>\n",
       "      <td>A1ZCPG3D3HGRSS</td>\n",
       "      <td>5.0</td>\n",
       "      <td>1387670400</td>\n",
       "    </tr>\n",
       "    <tr>\n",
       "      <th>1</th>\n",
       "      <td>0001388703</td>\n",
       "      <td>AC2PL52NKPL29</td>\n",
       "      <td>5.0</td>\n",
       "      <td>1378857600</td>\n",
       "    </tr>\n",
       "    <tr>\n",
       "      <th>2</th>\n",
       "      <td>0001388703</td>\n",
       "      <td>A1SUZXBDZSDQ3A</td>\n",
       "      <td>5.0</td>\n",
       "      <td>1362182400</td>\n",
       "    </tr>\n",
       "    <tr>\n",
       "      <th>3</th>\n",
       "      <td>0001388703</td>\n",
       "      <td>A3A0W7FZXM0IZW</td>\n",
       "      <td>5.0</td>\n",
       "      <td>1354406400</td>\n",
       "    </tr>\n",
       "    <tr>\n",
       "      <th>4</th>\n",
       "      <td>0001388703</td>\n",
       "      <td>A12R54MKO17TW0</td>\n",
       "      <td>5.0</td>\n",
       "      <td>1325894400</td>\n",
       "    </tr>\n",
       "  </tbody>\n",
       "</table>\n",
       "</div>"
      ],
      "text/plain": [
       "  product_asin         user_id  rating   timestamp\n",
       "0   0001388703  A1ZCPG3D3HGRSS     5.0  1387670400\n",
       "1   0001388703   AC2PL52NKPL29     5.0  1378857600\n",
       "2   0001388703  A1SUZXBDZSDQ3A     5.0  1362182400\n",
       "3   0001388703  A3A0W7FZXM0IZW     5.0  1354406400\n",
       "4   0001388703  A12R54MKO17TW0     5.0  1325894400"
      ]
     },
     "execution_count": 57,
     "metadata": {},
     "output_type": "execute_result"
    }
   ],
   "source": [
    "digital_music = pd.read_csv(\"Digital_Music.csv\")\n",
    "digital_music.head()"
   ]
  },
  {
   "cell_type": "markdown",
   "metadata": {},
   "source": [
    "### Quelsques informations sur nos données (nombre d'évaluations, nombre de musiques...)"
   ]
  },
  {
   "cell_type": "code",
   "execution_count": 58,
   "metadata": {},
   "outputs": [
    {
     "name": "stdout",
     "output_type": "stream",
     "text": [
      "1,584,082 évaluations\n",
      "456,992 musiques\n",
      "840,372 utilisateurs\n",
      "Nombre moyen d'évaluations par utilisateur : 1.9\n",
      "Nombre moyen d'évaluations par musique : 3.5\n"
     ]
    }
   ],
   "source": [
    "n_evaluation = len(digital_music)\n",
    "n_musique = digital_music['product_asin'].nunique()\n",
    "n_utilisateur = digital_music['user_id'].nunique()\n",
    "\n",
    "print(\"{:,}\".format(n_evaluation) + \" évaluations\")\n",
    "print(\"{:,}\".format(n_musique) + \" musiques\")\n",
    "print(\"{:,}\".format(n_utilisateur) + \" utilisateurs\")\n",
    "print(\"Nombre moyen d'évaluations par utilisateur : \" + str(round(n_evaluation/n_utilisateur, 1)))\n",
    "print(\"Nombre moyen d'évaluations par musique : \" + str(round(n_evaluation/n_musique, 1)))"
   ]
  },
  {
   "cell_type": "markdown",
   "metadata": {},
   "source": [
    "### Pour un utilisateur donné, combien d'évaluations a-t-il effectuées ?"
   ]
  },
  {
   "cell_type": "code",
   "execution_count": 59,
   "metadata": {},
   "outputs": [
    {
     "data": {
      "text/html": [
       "<div>\n",
       "<style scoped>\n",
       "    .dataframe tbody tr th:only-of-type {\n",
       "        vertical-align: middle;\n",
       "    }\n",
       "\n",
       "    .dataframe tbody tr th {\n",
       "        vertical-align: top;\n",
       "    }\n",
       "\n",
       "    .dataframe thead th {\n",
       "        text-align: right;\n",
       "    }\n",
       "</style>\n",
       "<table border=\"1\" class=\"dataframe\">\n",
       "  <thead>\n",
       "    <tr style=\"text-align: right;\">\n",
       "      <th></th>\n",
       "      <th>user_id</th>\n",
       "      <th>n_evaluation</th>\n",
       "    </tr>\n",
       "  </thead>\n",
       "  <tbody>\n",
       "    <tr>\n",
       "      <th>0</th>\n",
       "      <td>A00041408PB8URN3FSQ6</td>\n",
       "      <td>1</td>\n",
       "    </tr>\n",
       "    <tr>\n",
       "      <th>1</th>\n",
       "      <td>A0009988MRFQ3TROTQPI</td>\n",
       "      <td>2</td>\n",
       "    </tr>\n",
       "    <tr>\n",
       "      <th>2</th>\n",
       "      <td>A0015420M7GRKSKTW32Z</td>\n",
       "      <td>1</td>\n",
       "    </tr>\n",
       "    <tr>\n",
       "      <th>3</th>\n",
       "      <td>A0025284EDB2S5Q3G9PD</td>\n",
       "      <td>1</td>\n",
       "    </tr>\n",
       "    <tr>\n",
       "      <th>4</th>\n",
       "      <td>A002800078UB6PFVGW0Q</td>\n",
       "      <td>1</td>\n",
       "    </tr>\n",
       "  </tbody>\n",
       "</table>\n",
       "</div>"
      ],
      "text/plain": [
       "                user_id  n_evaluation\n",
       "0  A00041408PB8URN3FSQ6             1\n",
       "1  A0009988MRFQ3TROTQPI             2\n",
       "2  A0015420M7GRKSKTW32Z             1\n",
       "3  A0025284EDB2S5Q3G9PD             1\n",
       "4  A002800078UB6PFVGW0Q             1"
      ]
     },
     "execution_count": 59,
     "metadata": {},
     "output_type": "execute_result"
    }
   ],
   "source": [
    "nb_evaluations_par_utilisateur = digital_music[['user_id', 'product_asin']].groupby('user_id').count().reset_index()\n",
    "nb_evaluations_par_utilisateur.columns = ['user_id', 'n_evaluation']\n",
    "nb_evaluations_par_utilisateur.head()"
   ]
  },
  {
   "cell_type": "markdown",
   "metadata": {},
   "source": [
    "### Nombre maximum d'évaluations faites par un utilisateur"
   ]
  },
  {
   "cell_type": "code",
   "execution_count": 60,
   "metadata": {},
   "outputs": [
    {
     "data": {
      "text/plain": [
       "1326"
      ]
     },
     "execution_count": 60,
     "metadata": {},
     "output_type": "execute_result"
    }
   ],
   "source": [
    "max(nb_evaluations_par_utilisateur[\"n_evaluation\"])"
   ]
  },
  {
   "cell_type": "markdown",
   "metadata": {},
   "source": [
    "### Nombre minimum d'évaluations faites par un utilisateur"
   ]
  },
  {
   "cell_type": "code",
   "execution_count": 61,
   "metadata": {},
   "outputs": [
    {
     "data": {
      "text/plain": [
       "1"
      ]
     },
     "execution_count": 61,
     "metadata": {},
     "output_type": "execute_result"
    }
   ],
   "source": [
    "min(nb_evaluations_par_utilisateur[\"n_evaluation\"])"
   ]
  },
  {
   "cell_type": "markdown",
   "metadata": {},
   "source": [
    "### Visualisation de la distribution des notes et du nombre d'évaluations par utilisateur"
   ]
  },
  {
   "cell_type": "code",
   "execution_count": 62,
   "metadata": {},
   "outputs": [
    {
     "data": {
      "image/png": "[encoded data removed]",
      "text/plain": [
       "<Figure size 1400x500 with 2 Axes>"
      ]
     },
     "metadata": {},
     "output_type": "display_data"
    }
   ],
   "source": [
    "sns.set_style(\"whitegrid\")\n",
    "plt.figure(figsize=(14,5))\n",
    "\n",
    "# Sous-graphique Distribution des évaluations des musiques\n",
    "plt.subplot(1,2,1)\n",
    "ax = sns.countplot(x=\"rating\", data=digital_music, palette=\"viridis\")\n",
    "plt.title(\"Distribution des évaluations des musiques\")\n",
    "\n",
    "# Sous-graphique Nombre de musiques évalués par utilisateur\n",
    "plt.subplot(1,2,2)\n",
    "ax = sns.kdeplot(nb_evaluations_par_utilisateur['n_evaluation'], shade=True, legend=False)\n",
    "plt.axvline(nb_evaluations_par_utilisateur['n_evaluation'].mean(), color=\"r\", linestyle=\"-\")\n",
    "plt.xlabel(\"Nombre d'évaluations\")\n",
    "plt.ylabel(\"Densité\")\n",
    "plt.title(\"Nombre de musiques évalués par utilisateur\")\n",
    "plt.xlim(0, 18)\n",
    "\n",
    "plt.show()"
   ]
  },
  {
   "cell_type": "markdown",
   "metadata": {},
   "source": [
    "### Note moyenne de chaque musique"
   ]
  },
  {
   "cell_type": "code",
   "execution_count": 63,
   "metadata": {},
   "outputs": [
    {
     "data": {
      "text/html": [
       "<div>\n",
       "<style scoped>\n",
       "    .dataframe tbody tr th:only-of-type {\n",
       "        vertical-align: middle;\n",
       "    }\n",
       "\n",
       "    .dataframe tbody tr th {\n",
       "        vertical-align: top;\n",
       "    }\n",
       "\n",
       "    .dataframe thead th {\n",
       "        text-align: right;\n",
       "    }\n",
       "</style>\n",
       "<table border=\"1\" class=\"dataframe\">\n",
       "  <thead>\n",
       "    <tr style=\"text-align: right;\">\n",
       "      <th></th>\n",
       "      <th>rating</th>\n",
       "    </tr>\n",
       "    <tr>\n",
       "      <th>product_asin</th>\n",
       "      <th></th>\n",
       "    </tr>\n",
       "  </thead>\n",
       "  <tbody>\n",
       "    <tr>\n",
       "      <th>0001377647</th>\n",
       "      <td>5.000000</td>\n",
       "    </tr>\n",
       "    <tr>\n",
       "      <th>0001388703</th>\n",
       "      <td>4.571429</td>\n",
       "    </tr>\n",
       "    <tr>\n",
       "      <th>0001526146</th>\n",
       "      <td>4.891304</td>\n",
       "    </tr>\n",
       "    <tr>\n",
       "      <th>0001527134</th>\n",
       "      <td>4.878788</td>\n",
       "    </tr>\n",
       "    <tr>\n",
       "      <th>0001529145</th>\n",
       "      <td>5.000000</td>\n",
       "    </tr>\n",
       "  </tbody>\n",
       "</table>\n",
       "</div>"
      ],
      "text/plain": [
       "                rating\n",
       "product_asin          \n",
       "0001377647    5.000000\n",
       "0001388703    4.571429\n",
       "0001526146    4.891304\n",
       "0001527134    4.878788\n",
       "0001529145    5.000000"
      ]
     },
     "execution_count": 63,
     "metadata": {},
     "output_type": "execute_result"
    }
   ],
   "source": [
    "moyenne_par_digital_music = digital_music.groupby('product_asin')[['rating']].mean()\n",
    "moyenne_par_digital_music.head()"
   ]
  },
  {
   "cell_type": "markdown",
   "metadata": {},
   "source": [
    "### La musique la mieux notée"
   ]
  },
  {
   "cell_type": "code",
   "execution_count": 64,
   "metadata": {},
   "outputs": [
    {
     "name": "stdout",
     "output_type": "stream",
     "text": [
      "https://www.amazon.com/dp/0001377647/\n",
      "Moyenne de 5.0 selon 39 votes\n"
     ]
    }
   ],
   "source": [
    "highest_rated = moyenne_par_digital_music['rating'].idxmax()\n",
    "print(\"https://www.amazon.com/dp/\" + highest_rated + \"/\")\n",
    "print(\"Moyenne de \" + str(moyenne_par_digital_music.loc[highest_rated, 'rating']) + \" selon \" + str(digital_music[digital_music['product_asin']==highest_rated].shape[0]) + \" votes\")"
   ]
  },
  {
   "cell_type": "markdown",
   "metadata": {},
   "source": [
    "### La musique la moins bien notée"
   ]
  },
  {
   "cell_type": "code",
   "execution_count": 65,
   "metadata": {},
   "outputs": [
    {
     "name": "stdout",
     "output_type": "stream",
     "text": [
      "https://www.amazon.com/dp/0970154275/\n",
      "Moyenne de 1.0 selon 1 votes\n"
     ]
    }
   ],
   "source": [
    "lowest_rated = moyenne_par_digital_music['rating'].idxmin()\n",
    "print(\"https://www.amazon.com/dp/\" + lowest_rated + \"/\")\n",
    "print(\"Moyenne de \" + str(moyenne_par_digital_music.loc[lowest_rated, 'rating']) + \" selon \" + str(digital_music[digital_music['product_asin']==lowest_rated].shape[0]) + \" votes\")"
   ]
  },
  {
   "cell_type": "markdown",
   "metadata": {},
   "source": [
    "### La musique avec la note moyenne la plus faible n'a reçu qu'un seul vote. \n",
    "### Ce n'est pas une bonne mesure de la popularité d'une musique. \n",
    "### La qualité de l'évaluation d'une musique dépend non seulement de la note moyenne, mais aussi du nombre d'évaluations.\n",
    "### Il faudrait calculer la moyenne bayésienne mais en raison des limitations de performance nous n'allons pas le faire."
   ]
  },
  {
   "cell_type": "markdown",
   "metadata": {},
   "source": [
    "## 2. Transformation des données\n",
    "### Besoin de transformer les données en matrice utilisateur-item pour le filtrage collaboratif \n",
    "### Les colonnes sont des musiques et les lignes des utilisateurs\n",
    "### Chaque cellule est remplie avec l'évaluation d'un utilisateur par rapport à un film\n",
    "### Cellule vide = pas d'évaluation disponible"
   ]
  },
  {
   "cell_type": "code",
   "execution_count": 66,
   "metadata": {},
   "outputs": [],
   "source": [
    "from scipy.sparse import csr_matrix\n",
    "\n",
    "def creer_X(df):\n",
    "    \"\"\"\n",
    "    Génère une matrice creuse à partir du DataFrame des évaluations.\n",
    "    \n",
    "    Arguments:\n",
    "        df: DataFrame pandas\n",
    "    \n",
    "    Retourne:\n",
    "        X: matrice creuse\n",
    "        utilisateur_mapper: dictionnaire qui associe les identifiants d'utilisateurs aux indices des utilisateurs\n",
    "        utilisateur_inv_mapper: dictionnaire qui associe les indices des utilisateurs aux identifiants des utilisateurs\n",
    "        musique_mapper: dictionnaire qui associe les identifiants de films aux indices des films\n",
    "        musique_inv_mapper: dictionnaire qui associe les indices des films aux identifiants des films\n",
    "    \"\"\"\n",
    "    N = df['user_id'].nunique()  # Nombre d'utilisateurs uniques\n",
    "    M = df['product_asin'].nunique()  # Nombre de musiques uniques\n",
    "\n",
    "    utilisateur_mapper = dict(zip(np.unique(df[\"user_id\"]), list(range(N))))  # Mapper des utilisateurs\n",
    "    musique_mapper = dict(zip(np.unique(df[\"product_asin\"]), list(range(M))))  # Mapper des musiques\n",
    "    \n",
    "    utilisateur_inv_mapper = dict(zip(list(range(N)), np.unique(df[\"user_id\"])))  # Mapper inversé pour les utilisateurs\n",
    "    musique_inv_mapper = dict(zip(list(range(M)), np.unique(df[\"product_asin\"])))  # Mapper inversé pour les musiques\n",
    "    \n",
    "    index_utilisateur = [utilisateur_mapper[i] for i in df['user_id']]  # Index des utilisateurs\n",
    "    index_musique = [musique_mapper[i] for i in df['product_asin']]  # Index des musiques\n",
    "\n",
    "    X = csr_matrix((df[\"rating\"], (index_musique, index_utilisateur)), shape=(M, N))  # Création de la matrice creuse\n",
    "    \n",
    "    return X, utilisateur_mapper, musique_mapper, utilisateur_inv_mapper, musique_inv_mapper"
   ]
  },
  {
   "cell_type": "code",
   "execution_count": 67,
   "metadata": {},
   "outputs": [],
   "source": [
    "X, user_mapper, musique_mapper, user_inv_mapper, musique_inv_mapper = creer_X(digital_music)"
   ]
  },
  {
   "cell_type": "markdown",
   "metadata": {},
   "source": [
    "### Calculons la Sparsity de la matrice"
   ]
  },
  {
   "cell_type": "code",
   "execution_count": 68,
   "metadata": {},
   "outputs": [
    {
     "name": "stdout",
     "output_type": "stream",
     "text": [
      "Matrix sparsity: 0.0003948906477302037 %\n"
     ]
    }
   ],
   "source": [
    "sparsity = X.count_nonzero()/(X.shape[0]*X.shape[1])*100\n",
    "\n",
    "print(f\"Matrix sparsity: {sparsity} %\")"
   ]
  },
  {
   "cell_type": "markdown",
   "metadata": {},
   "source": [
    "### La matrice est trop vide pour faire de bonnes recommandations...\n",
    "### Nous allons créer un nouveau dataframe contenant uniquement les musiques ayant plus de 35 évaluations, puis le filtrer à nouveau en ne conservant que les évaluations des utilisateurs ayant plus de 35 évaluations"
   ]
  },
  {
   "cell_type": "code",
   "execution_count": 69,
   "metadata": {},
   "outputs": [
    {
     "data": {
      "text/html": [
       "<div>\n",
       "<style scoped>\n",
       "    .dataframe tbody tr th:only-of-type {\n",
       "        vertical-align: middle;\n",
       "    }\n",
       "\n",
       "    .dataframe tbody tr th {\n",
       "        vertical-align: top;\n",
       "    }\n",
       "\n",
       "    .dataframe thead th {\n",
       "        text-align: right;\n",
       "    }\n",
       "</style>\n",
       "<table border=\"1\" class=\"dataframe\">\n",
       "  <thead>\n",
       "    <tr style=\"text-align: right;\">\n",
       "      <th></th>\n",
       "      <th>product_asin</th>\n",
       "      <th>user_id</th>\n",
       "      <th>rating</th>\n",
       "      <th>timestamp</th>\n",
       "    </tr>\n",
       "  </thead>\n",
       "  <tbody>\n",
       "    <tr>\n",
       "      <th>1465</th>\n",
       "      <td>7799420340</td>\n",
       "      <td>A9Q28YTLYREO7</td>\n",
       "      <td>5.0</td>\n",
       "      <td>1121731200</td>\n",
       "    </tr>\n",
       "    <tr>\n",
       "      <th>1466</th>\n",
       "      <td>7799420340</td>\n",
       "      <td>A3W4D8XOGLWUN5</td>\n",
       "      <td>4.0</td>\n",
       "      <td>1121731200</td>\n",
       "    </tr>\n",
       "    <tr>\n",
       "      <th>1526</th>\n",
       "      <td>7799420340</td>\n",
       "      <td>A1VTEL32W5FM13</td>\n",
       "      <td>5.0</td>\n",
       "      <td>1483228800</td>\n",
       "    </tr>\n",
       "    <tr>\n",
       "      <th>1868</th>\n",
       "      <td>7799420340</td>\n",
       "      <td>A3W4D8XOGLWUN5</td>\n",
       "      <td>4.0</td>\n",
       "      <td>1261699200</td>\n",
       "    </tr>\n",
       "    <tr>\n",
       "      <th>1939</th>\n",
       "      <td>7799420340</td>\n",
       "      <td>A2R6RA8FRBS608</td>\n",
       "      <td>5.0</td>\n",
       "      <td>1249689600</td>\n",
       "    </tr>\n",
       "  </tbody>\n",
       "</table>\n",
       "</div>"
      ],
      "text/plain": [
       "     product_asin         user_id  rating   timestamp\n",
       "1465   7799420340   A9Q28YTLYREO7     5.0  1121731200\n",
       "1466   7799420340  A3W4D8XOGLWUN5     4.0  1121731200\n",
       "1526   7799420340  A1VTEL32W5FM13     5.0  1483228800\n",
       "1868   7799420340  A3W4D8XOGLWUN5     4.0  1261699200\n",
       "1939   7799420340  A2R6RA8FRBS608     5.0  1249689600"
      ]
     },
     "execution_count": 69,
     "metadata": {},
     "output_type": "execute_result"
    }
   ],
   "source": [
    "musique_counts = digital_music['product_asin'].value_counts()\n",
    "popular_musique = musique_counts[musique_counts > 35].index\n",
    "\n",
    "digital_music_filtered = digital_music[digital_music['product_asin'].isin(popular_musique)]\n",
    "\n",
    "user_ratings_count = digital_music_filtered['user_id'].value_counts()\n",
    "filtered_users = user_ratings_count[user_ratings_count > 35].index\n",
    "digital_music_filtered = digital_music_filtered[digital_music_filtered['user_id'].isin(filtered_users)]\n",
    "digital_music_filtered.head()"
   ]
  },
  {
   "cell_type": "markdown",
   "metadata": {},
   "source": [
    "### Quelsques informations sur nos données filtered (nombre d'évaluations, nombre de musiques...)"
   ]
  },
  {
   "cell_type": "code",
   "execution_count": 70,
   "metadata": {},
   "outputs": [
    {
     "name": "stdout",
     "output_type": "stream",
     "text": [
      "9,364 évaluations\n",
      "2,974 musiques\n",
      "166 utilisateurs\n",
      "Nombre moyen d'évaluations par utilisateur : 56.4\n",
      "Nombre moyen d'évaluations par musique : 3.1\n"
     ]
    }
   ],
   "source": [
    "n_evaluation = len(digital_music_filtered)\n",
    "n_musique = digital_music_filtered['product_asin'].nunique()\n",
    "n_utilisateur = digital_music_filtered['user_id'].nunique()\n",
    "\n",
    "print(\"{:,}\".format(n_evaluation) + \" évaluations\")\n",
    "print(\"{:,}\".format(n_musique) + \" musiques\")\n",
    "print(\"{:,}\".format(n_utilisateur) + \" utilisateurs\")\n",
    "print(\"Nombre moyen d'évaluations par utilisateur : \" + str(round(n_evaluation/n_utilisateur, 1)))\n",
    "print(\"Nombre moyen d'évaluations par musique : \" + str(round(n_evaluation/n_musique, 1)))"
   ]
  },
  {
   "cell_type": "code",
   "execution_count": 71,
   "metadata": {},
   "outputs": [],
   "source": [
    "X, user_mapper, musique_mapper, user_inv_mapper, musique_inv_mapper = creer_X(digital_music_filtered)"
   ]
  },
  {
   "cell_type": "markdown",
   "metadata": {},
   "source": [
    "### Calculons la Sparsity de la matrice des données filtered"
   ]
  },
  {
   "cell_type": "code",
   "execution_count": 72,
   "metadata": {},
   "outputs": [
    {
     "name": "stdout",
     "output_type": "stream",
     "text": [
      "Matrix sparsity: 1.51%\n"
     ]
    }
   ],
   "source": [
    "sparsity = X.count_nonzero()/(X.shape[0]*X.shape[1])\n",
    "\n",
    "print(f\"Matrix sparsity: {round(sparsity*100,2)}%\")"
   ]
  },
  {
   "cell_type": "markdown",
   "metadata": {},
   "source": [
    "### Sauvegarde de notre matrice"
   ]
  },
  {
   "cell_type": "code",
   "execution_count": 73,
   "metadata": {},
   "outputs": [],
   "source": [
    "from scipy.sparse import save_npz\n",
    "\n",
    "save_npz('user_item_matrix.npz', X)"
   ]
  },
  {
   "cell_type": "code",
   "execution_count": 74,
   "metadata": {},
   "outputs": [],
   "source": [
    "from sklearn.neighbors import NearestNeighbors\n",
    "\n",
    "def find_similar_musique(musique_asin, X, k):\n",
    "    \"\"\"\n",
    "    Trouve les k-voisins les plus proches pour un identifiant de musique donné.\n",
    "    Args :\n",
    "        musique_asin : identifiant de la musique\n",
    "        X : matrice utilisateur-item\n",
    "        k : nombre de musiques similaires à récupérer\n",
    "    \n",
    "    Returns :\n",
    "        liste des k musiques similaires sous forme d'ASIN\n",
    "    \"\"\"\n",
    "    neighbour_ids = []\n",
    "    \n",
    "    musique_ind = musique_mapper[musique_asin]\n",
    "    musique_vec = X[musique_ind]\n",
    "    k+=1\n",
    "    kNN = NearestNeighbors(n_neighbors=k, algorithm=\"brute\", metric='cosine')\n",
    "    kNN.fit(X)\n",
    "    if isinstance(musique_vec, (np.ndarray)):\n",
    "        musique_vec = musique_vec.reshape(1,-1)\n",
    "    neighbour = kNN.kneighbors(musique_vec, return_distance=False)\n",
    "    for i in range(0,k):\n",
    "        n = neighbour.item(i)\n",
    "        neighbour_ids.append(musique_inv_mapper[n])\n",
    "    neighbour_ids.pop(0)\n",
    "    return neighbour_ids\n",
    "\n",
    "def find_similar_musique_et_rep(musique_asin, X, k):\n",
    "    similar_music_asin = find_similar_musique(musique_asin, X, k)\n",
    "    \n",
    "    print(\"Parce que vous avez écouté \" + string_asin_info(musique_asin) + \" : \" + \"https://www.amazon.com/dp/\" + musique_asin + \"/\")\n",
    "    image_url = get_image_url(musique_asin)\n",
    "    if image_url:\n",
    "        display(Image(url=image_url))\n",
    "    print(\"-----------------------------------------------------------------\")\n",
    "    for i in similar_music_asin:\n",
    "        print(\" • Nous vous recommandons \" + string_asin_info(i) + \" : \" + \"https://www.amazon.com/dp/\" + i + \"/\")\n",
    "        image_url = get_image_url(i)\n",
    "        if image_url:\n",
    "            display(Image(url=image_url))\n",
    "\n",
    "def string_asin_info(asin):\n",
    "    music_info = get_music_info(asin)\n",
    "\n",
    "    titre_row = music_info.select(\"title\").first()\n",
    "    titre = titre_row[\"title\"] if titre_row and titre_row[\"title\"] else \"Titre inconnu\"\n",
    "\n",
    "    if \"brand\" in music_info.columns:\n",
    "        groupe_row = music_info.select(\"brand\").first()\n",
    "        groupe = groupe_row[\"brand\"] if groupe_row and groupe_row[\"brand\"] else \"Groupe inconnu\"\n",
    "    else:\n",
    "        groupe = \"Groupe inconnu\"\n",
    "\n",
    "    return titre + \" par \" + groupe"
   ]
  },
  {
   "cell_type": "markdown",
   "metadata": {},
   "source": [
    "## 3. Test (filtrage collaboratif)"
   ]
  },
  {
   "cell_type": "markdown",
   "metadata": {},
   "source": [
    "### Exemple : Pour 'Essential' de Michael Jackson (7799420340)\n",
    "> Parmi les 3 recommandations, **on retrouve 'Pure McCartney' de Paul McCartney (B01DKYRCEY)** -> Notons que **'Essential' de Michael Jackson contient un duo avec Paul McCartney**."
   ]
  },
  {
   "cell_type": "code",
   "execution_count": 75,
   "metadata": {},
   "outputs": [
    {
     "name": "stdout",
     "output_type": "stream",
     "text": [
      "Parce que vous avez écouté Essential par Michael Jackson : https://www.amazon.com/dp/7799420340/\n"
     ]
    },
    {
     "data": {
      "text/html": [
       "<img src=\"https://m.media-amazon.com/images/I/51L9ryNrw9L._SX300_SY300_QL70_ML2_.jpg\"/>"
      ],
      "text/plain": [
       "<IPython.core.display.Image object>"
      ]
     },
     "metadata": {},
     "output_type": "display_data"
    },
    {
     "name": "stdout",
     "output_type": "stream",
     "text": [
      "-----------------------------------------------------------------\n",
      " • Nous vous recommandons Titre inconnu par Groupe inconnu : https://www.amazon.com/dp/B01DKYRCEY/\n",
      " • Nous vous recommandons Whispering Grass [Audio CD] par Ink Spots : https://www.amazon.com/dp/B000025Y5D/\n",
      " • Nous vous recommandons Titre inconnu par Groupe inconnu : https://www.amazon.com/dp/B01F54322S/\n"
     ]
    }
   ],
   "source": [
    "find_similar_musique_et_rep(\"7799420340\", X, k=3)"
   ]
  },
  {
   "cell_type": "markdown",
   "metadata": {},
   "source": [
    "### Exemples"
   ]
  },
  {
   "cell_type": "code",
   "execution_count": 76,
   "metadata": {},
   "outputs": [
    {
     "name": "stdout",
     "output_type": "stream",
     "text": [
      "Parce que vous avez écouté Titre inconnu par Groupe inconnu : https://www.amazon.com/dp/B001BIQPB8/\n",
      "-----------------------------------------------------------------\n",
      " • Nous vous recommandons Titre inconnu par Groupe inconnu : https://www.amazon.com/dp/B01FTCOKF4/\n",
      " • Nous vous recommandons Titre inconnu par Groupe inconnu : https://www.amazon.com/dp/B006P06BPM/\n",
      " • Nous vous recommandons Titre inconnu par Groupe inconnu : https://www.amazon.com/dp/B00EONYSZW/\n"
     ]
    }
   ],
   "source": [
    "find_similar_musique_et_rep(\"B001BIQPB8\", X, k=3)"
   ]
  },
  {
   "cell_type": "code",
   "execution_count": 77,
   "metadata": {},
   "outputs": [
    {
     "name": "stdout",
     "output_type": "stream",
     "text": [
      "7799420340 (Essential par Michael Jackson) : https://www.amazon.com/dp/7799420340/\n",
      "9714721180 (<span class=\"a-size-medium a-color-secondary a-text-normal\" par Metallica) : https://www.amazon.com/dp/9714721180/\n",
      "B00000I7LP (Slim Shady par Eminem) : https://www.amazon.com/dp/B00000I7LP/\n",
      "B000025Y5D (Whispering Grass [Audio CD] par Ink Spots) : https://www.amazon.com/dp/B000025Y5D/\n",
      "B00004WPC6 (Surf's Up par The Beach Boys) : https://www.amazon.com/dp/B00004WPC6/\n",
      "B000OZAGG4 (Carroll Roberson sings Gospel Favorites par Carroll Roberson) : https://www.amazon.com/dp/B000OZAGG4/\n",
      "B000QO3H3W (Titre inconnu par Groupe inconnu) : https://www.amazon.com/dp/B000QO3H3W/\n",
      "B000QO760C (Titre inconnu par Groupe inconnu) : https://www.amazon.com/dp/B000QO760C/\n",
      "B000QOEN6W (Titre inconnu par Groupe inconnu) : https://www.amazon.com/dp/B000QOEN6W/\n",
      "B000QONMQ4 (Titre inconnu par Groupe inconnu) : https://www.amazon.com/dp/B000QONMQ4/\n",
      "B000QP4IBG (Titre inconnu par Groupe inconnu) : https://www.amazon.com/dp/B000QP4IBG/\n",
      "B000QP7U8O (Titre inconnu par Groupe inconnu) : https://www.amazon.com/dp/B000QP7U8O/\n",
      "B000QPL8QE (Titre inconnu par Groupe inconnu) : https://www.amazon.com/dp/B000QPL8QE/\n",
      "B000QVL4NU (Titre inconnu par Groupe inconnu) : https://www.amazon.com/dp/B000QVL4NU/\n",
      "B000S3BNY6 (Titre inconnu par Groupe inconnu) : https://www.amazon.com/dp/B000S3BNY6/\n",
      "B000S50VHE (Titre inconnu par Groupe inconnu) : https://www.amazon.com/dp/B000S50VHE/\n",
      "B000S51XMQ (Titre inconnu par Groupe inconnu) : https://www.amazon.com/dp/B000S51XMQ/\n",
      "B000S5111E (Titre inconnu par Groupe inconnu) : https://www.amazon.com/dp/B000S5111E/\n",
      "B000S56380 (Titre inconnu par Groupe inconnu) : https://www.amazon.com/dp/B000S56380/\n",
      "B000S55TTY (Titre inconnu par Groupe inconnu) : https://www.amazon.com/dp/B000S55TTY/\n",
      "B000SX87C2 (Titre inconnu par Groupe inconnu) : https://www.amazon.com/dp/B000SX87C2/\n",
      "B000SX85CE (Titre inconnu par Groupe inconnu) : https://www.amazon.com/dp/B000SX85CE/\n",
      "B000SXHB6K (Titre inconnu par Groupe inconnu) : https://www.amazon.com/dp/B000SXHB6K/\n",
      "B000SXKPYU (Titre inconnu par Groupe inconnu) : https://www.amazon.com/dp/B000SXKPYU/\n",
      "B000SXIZUQ (Titre inconnu par Groupe inconnu) : https://www.amazon.com/dp/B000SXIZUQ/\n",
      "B000SXM2AK (Titre inconnu par Groupe inconnu) : https://www.amazon.com/dp/B000SXM2AK/\n",
      "B000SXKWXY (Titre inconnu par Groupe inconnu) : https://www.amazon.com/dp/B000SXKWXY/\n",
      "B000SXM3HM (Titre inconnu par Groupe inconnu) : https://www.amazon.com/dp/B000SXM3HM/\n",
      "B000SZBPAQ (Titre inconnu par Groupe inconnu) : https://www.amazon.com/dp/B000SZBPAQ/\n"
     ]
    }
   ],
   "source": [
    "stop = 0\n",
    "for i in digital_music_filtered['product_asin'].unique():\n",
    "    stop += 1 \n",
    "    if stop < 30:\n",
    "        print(i + \" (\" + string_asin_info(i) + \") : https://www.amazon.com/dp/\" + i + \"/\")"
   ]
  },
  {
   "cell_type": "markdown",
   "metadata": {},
   "source": [
    "# 2. Filtrage Content Based"
   ]
  },
  {
   "cell_type": "code",
   "execution_count": 78,
   "metadata": {},
   "outputs": [],
   "source": [
    "from pyspark.sql import SparkSession\n",
    "from pyspark.sql.functions import concat_ws, col, array_join\n",
    "from sklearn.feature_extraction.text import TfidfVectorizer\n",
    "from sklearn.metrics.pairwise import linear_kernel\n",
    "import pandas as pd\n",
    "import requests\n",
    "from bs4 import BeautifulSoup\n",
    "from IPython.display import Image, display\n",
    "\n",
    "# Créer une session Spark\n",
    "spark = SparkSession.builder.appName(\"AmazonDigitalMusicMetadata\").getOrCreate()\n",
    "\n",
    "# Charger les données JSONL en DataFrame Spark sans spécifier de schéma\n",
    "metadata_spark = spark.read.json(\"../meta_Digital_Music.jsonl\")\n",
    "\n",
    "# Combiner les colonnes pertinentes en une seule colonne de texte\n",
    "metadata_spark = metadata_spark.withColumn(\"content\", concat_ws(\" \", col(\"title\"), col(\"brand\"), array_join(col(\"category\"), \" \"), array_join(col(\"description\"), \" \"), array_join(col(\"feature\"), \" \")))\n",
    "\n",
    "# Convertir le DataFrame Spark en DataFrame Pandas\n",
    "metadata_pd = metadata_spark.select(\"asin\", \"content\").toPandas()\n",
    "\n",
    "# Remplacer les valeurs nulles par des chaînes vides\n",
    "metadata_pd[\"content\"] = metadata_pd[\"content\"].fillna(\"\")\n",
    "\n",
    "# Utiliser TfidfVectorizer pour transformer le texte en vecteurs de caractéristiques\n",
    "tfidf = TfidfVectorizer(stop_words='english')\n",
    "tfidf_matrix = tfidf.fit_transform(metadata_pd[\"content\"])\n",
    "\n",
    "# Créer une série pour mapper les indices aux titres des musiques\n",
    "indices = pd.Series(metadata_pd.index, index=metadata_pd[\"asin\"]).drop_duplicates()\n",
    "\n",
    "# Fonction pour recommander des musiques similaires\n",
    "def get_music_recommendations(asin, tfidf_matrix=tfidf_matrix, cosine_sim=linear_kernel):\n",
    "    idx = indices[asin]\n",
    "    tfidf_vector = tfidf_matrix[idx]\n",
    "    cosine_similarities = cosine_sim(tfidf_vector, tfidf_matrix).flatten()\n",
    "    sim_scores = list(enumerate(cosine_similarities))\n",
    "    sim_scores = sorted(sim_scores, key=lambda x: x[1], reverse=True)\n",
    "    sim_scores = sim_scores[1:11]  # Obtenir les 10 musiques les plus similaires\n",
    "    music_indices = [i[0] for i in sim_scores]\n",
    "    return metadata_pd[\"asin\"].iloc[music_indices]\n"
   ]
  },
  {
   "cell_type": "code",
   "execution_count": 79,
   "metadata": {},
   "outputs": [],
   "source": [
    "def print_content_based(asin):\n",
    "    recommendations = get_music_recommendations(asin)\n",
    "    # Afficher les recommandations en utilisant get_music_info\n",
    "    print(\"Parce que vous avez écouté \" + string_asin_info(asin) + \" : \" + \"https://www.amazon.com/dp/\" + asin + \"/\")\n",
    "    image_url = get_image_url(asin)\n",
    "    if image_url:\n",
    "        display(Image(url=image_url))\n",
    "    print(\"-----------------------------------------------------------------\")\n",
    "    for asin in recommendations:\n",
    "        music_info = get_music_info(asin)\n",
    "        titre_row = music_info.select(\"title\").first()\n",
    "        titre = titre_row[\"title\"] if titre_row and titre_row[\"title\"] else \"Titre inconnu\"\n",
    "\n",
    "        if \"brand\" in music_info.columns:\n",
    "            groupe_row = music_info.select(\"brand\").first()\n",
    "            groupe = groupe_row[\"brand\"] if groupe_row and groupe_row[\"brand\"] else \"Groupe inconnu\"\n",
    "        else:\n",
    "            groupe = \"Groupe inconnu\"\n",
    "\n",
    "        string_asin_info_var = titre + \" par \" + groupe\n",
    "        print(\" • Nous vous recommandons \" + string_asin_info_var + \" : \" + \"https://www.amazon.com/dp/\" + asin + \"/\")\n",
    "        image_url = get_image_url(asin)\n",
    "        if image_url:\n",
    "            display(Image(url=image_url))\n",
    "        else:\n",
    "            image_url_high_res = music_info.select(\"imageURLHighRes\").first()\n",
    "            if image_url_high_res and image_url_high_res[\"imageURLHighRes\"]:\n",
    "                display(Image(url=image_url_high_res[\"imageURLHighRes\"][0]))\n",
    "            else:\n",
    "                print(\"Image non disponible\")\n",
    "\n"
   ]
  },
  {
   "cell_type": "code",
   "execution_count": 80,
   "metadata": {},
   "outputs": [
    {
     "name": "stdout",
     "output_type": "stream",
     "text": [
      "Parce que vous avez écouté Essential par Michael Jackson : https://www.amazon.com/dp/7799420340/\n",
      "-----------------------------------------------------------------\n",
      " • Nous vous recommandons Michael Jackson: King of Pop - The China Collection (2 CDs) par Michael Jackson : https://www.amazon.com/dp/7799433337/\n",
      "Image non disponible\n",
      " • Nous vous recommandons <span class=\"a-size-medium a-color-secondary a-text-normal\" par Michael Jackson : https://www.amazon.com/dp/B000WJ8FK6/\n",
      "Image non disponible\n",
      " • Nous vous recommandons Live in Japan 1987 (CD Album Michael Jackson, 13 Tracks) par Michael Jackson : https://www.amazon.com/dp/B002F4U4X2/\n"
     ]
    },
    {
     "data": {
      "text/html": [
       "<img src=\"https://m.media-amazon.com/images/I/51cRzqWesSL._SY300_SX300_QL70_ML2_.jpg\"/>"
      ],
      "text/plain": [
       "<IPython.core.display.Image object>"
      ]
     },
     "metadata": {},
     "output_type": "display_data"
    },
    {
     "name": "stdout",
     "output_type": "stream",
     "text": [
      " • Nous vous recommandons I Just Can't Stop Loving You par Groupe inconnu : https://www.amazon.com/dp/B000X1R5F4/\n",
      "Image non disponible\n",
      " • Nous vous recommandons Leave Me Alone par Michael Jackson : https://www.amazon.com/dp/B0043FJO7S/\n"
     ]
    },
    {
     "data": {
      "text/html": [
       "<img src=\"https://images-na.ssl-images-amazon.com/images/I/41v1yO4-ATL.jpg\"/>"
      ],
      "text/plain": [
       "<IPython.core.display.Image object>"
      ]
     },
     "metadata": {},
     "output_type": "display_data"
    },
    {
     "name": "stdout",
     "output_type": "stream",
     "text": [
      " • Nous vous recommandons <span class=\"a-size-medium a-color-secondary a-text-normal\" par Marvin Gaye : https://www.amazon.com/dp/B000MKLB2E/\n",
      "Image non disponible\n",
      " • Nous vous recommandons Shake That Thing: Dip N Swing Music par Dirty Bunny : https://www.amazon.com/dp/B0030HT54M/\n",
      "Image non disponible\n",
      " • Nous vous recommandons You Make Me Feel So Young par Groupe inconnu : https://www.amazon.com/dp/B000IZJ2X8/\n"
     ]
    },
    {
     "data": {
      "text/html": [
       "<img src=\"https://images-na.ssl-images-amazon.com/images/I/51zFrWY7IDL.jpg\"/>"
      ],
      "text/plain": [
       "<IPython.core.display.Image object>"
      ]
     },
     "metadata": {},
     "output_type": "display_data"
    },
    {
     "name": "stdout",
     "output_type": "stream",
     "text": [
      " • Nous vous recommandons I Can't Stop Loving You; Born To Lose par Groupe inconnu : https://www.amazon.com/dp/B003NXKR36/\n",
      "Image non disponible\n",
      " • Nous vous recommandons STOP THE WORLD, I WANT TO GET OFF - ORIGINAL UK CAST LP par Groupe inconnu : https://www.amazon.com/dp/B00175RUA0/\n",
      "Image non disponible\n"
     ]
    }
   ],
   "source": [
    "print_content_based(\"7799420340\")"
   ]
  }
 ],
 "metadata": {
  "kernelspec": {
   "display_name": "base",
   "language": "python",
   "name": "python3"
  },
  "language_info": {
   "codemirror_mode": {
    "name": "ipython",
    "version": 3
   },
   "file_extension": ".py",
   "mimetype": "text/x-python",
   "name": "python",
   "nbconvert_exporter": "python",
   "pygments_lexer": "ipython3",
   "version": "3.11.4"
  }
 },
 "nbformat": 4,
 "nbformat_minor": 4
}
