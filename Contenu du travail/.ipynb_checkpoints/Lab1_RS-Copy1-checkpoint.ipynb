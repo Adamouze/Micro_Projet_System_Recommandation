{
 "cells": [
  {
   "cell_type": "markdown",
   "metadata": {},
   "source": [
    "## 1. Exploration des données\n",
    "### combien de notes, de films uniques et de user uniques dans le jeu de données ?\n",
    "### Quelle est la moyenne des notes par user et par film?\n"
   ]
  },
  {
   "cell_type": "code",
   "execution_count": 2,
   "metadata": {},
   "outputs": [],
   "source": [
    "import numpy as np\n",
    "import pandas as pd\n",
    "import sklearn\n",
    "import matplotlib.pyplot as plt\n",
    "import seaborn as sns\n",
    "\n",
    "import warnings\n",
    "warnings.simplefilter(action='ignore', category=FutureWarning)"
   ]
  },
  {
   "cell_type": "code",
   "execution_count": 3,
   "metadata": {},
   "outputs": [
    {
     "data": {
      "text/html": [
       "<div>\n",
       "<style scoped>\n",
       "    .dataframe tbody tr th:only-of-type {\n",
       "        vertical-align: middle;\n",
       "    }\n",
       "\n",
       "    .dataframe tbody tr th {\n",
       "        vertical-align: top;\n",
       "    }\n",
       "\n",
       "    .dataframe thead th {\n",
       "        text-align: right;\n",
       "    }\n",
       "</style>\n",
       "<table border=\"1\" class=\"dataframe\">\n",
       "  <thead>\n",
       "    <tr style=\"text-align: right;\">\n",
       "      <th></th>\n",
       "      <th>product_asin</th>\n",
       "      <th>user_id</th>\n",
       "      <th>rating</th>\n",
       "      <th>timestamp</th>\n",
       "    </tr>\n",
       "  </thead>\n",
       "  <tbody>\n",
       "    <tr>\n",
       "      <th>0</th>\n",
       "      <td>0001388703</td>\n",
       "      <td>A1ZCPG3D3HGRSS</td>\n",
       "      <td>5.0</td>\n",
       "      <td>1387670400</td>\n",
       "    </tr>\n",
       "    <tr>\n",
       "      <th>1</th>\n",
       "      <td>0001388703</td>\n",
       "      <td>AC2PL52NKPL29</td>\n",
       "      <td>5.0</td>\n",
       "      <td>1378857600</td>\n",
       "    </tr>\n",
       "    <tr>\n",
       "      <th>2</th>\n",
       "      <td>0001388703</td>\n",
       "      <td>A1SUZXBDZSDQ3A</td>\n",
       "      <td>5.0</td>\n",
       "      <td>1362182400</td>\n",
       "    </tr>\n",
       "    <tr>\n",
       "      <th>3</th>\n",
       "      <td>0001388703</td>\n",
       "      <td>A3A0W7FZXM0IZW</td>\n",
       "      <td>5.0</td>\n",
       "      <td>1354406400</td>\n",
       "    </tr>\n",
       "    <tr>\n",
       "      <th>4</th>\n",
       "      <td>0001388703</td>\n",
       "      <td>A12R54MKO17TW0</td>\n",
       "      <td>5.0</td>\n",
       "      <td>1325894400</td>\n",
       "    </tr>\n",
       "  </tbody>\n",
       "</table>\n",
       "</div>"
      ],
      "text/plain": [
       "  product_asin         user_id  rating   timestamp\n",
       "0   0001388703  A1ZCPG3D3HGRSS     5.0  1387670400\n",
       "1   0001388703   AC2PL52NKPL29     5.0  1378857600\n",
       "2   0001388703  A1SUZXBDZSDQ3A     5.0  1362182400\n",
       "3   0001388703  A3A0W7FZXM0IZW     5.0  1354406400\n",
       "4   0001388703  A12R54MKO17TW0     5.0  1325894400"
      ]
     },
     "execution_count": 3,
     "metadata": {},
     "output_type": "execute_result"
    }
   ],
   "source": [
    "digital_music = pd.read_csv(\"Digital_Music.csv\") # de https://nijianmo.github.io/amazon/index.html#sample-review\n",
    "digital_music.head()"
   ]
  },
  {
   "cell_type": "code",
   "execution_count": 4,
   "metadata": {},
   "outputs": [
    {
     "name": "stdout",
     "output_type": "stream",
     "text": [
      "Nombre total d'évaluations  : 1584082\n",
      "Nombre de musiques : 456992\n",
      "Nombre d'utilisateurs : 840372\n",
      "Nombre moyen d'évaluations par utilisateur : 1.88\n",
      "Nombre moyen d'évaluations par musique : 3.47\n"
     ]
    }
   ],
   "source": [
    "n_evaluation = len(digital_music)\n",
    "n_musique = digital_music['product_asin'].nunique()\n",
    "n_utilisateur = digital_music['user_id'].nunique()\n",
    "\n",
    "print(f\"Nombre total d'évaluations  : {n_evaluation}\")\n",
    "print(f\"Nombre de musiques : {n_musique}\")\n",
    "print(f\"Nombre d'utilisateurs : {n_utilisateur}\")\n",
    "print(f\"Nombre moyen d'évaluations par utilisateur : {round(n_evaluation/n_utilisateur, 2)}\")\n",
    "print(f\"Nombre moyen d'évaluations par musique : {round(n_evaluation/n_musique, 2)}\")"
   ]
  },
  {
   "cell_type": "markdown",
   "metadata": {},
   "source": [
    "## Combien de notes chaque user fait-il? Utiliser groupby() et count() pour\n",
    "\n",
    "      - grouper les données par userId\n",
    "      - compter le nombre de notes pour chaque userId\n",
    "\n"
   ]
  },
  {
   "cell_type": "code",
   "execution_count": 5,
   "metadata": {},
   "outputs": [
    {
     "data": {
      "text/html": [
       "<div>\n",
       "<style scoped>\n",
       "    .dataframe tbody tr th:only-of-type {\n",
       "        vertical-align: middle;\n",
       "    }\n",
       "\n",
       "    .dataframe tbody tr th {\n",
       "        vertical-align: top;\n",
       "    }\n",
       "\n",
       "    .dataframe thead th {\n",
       "        text-align: right;\n",
       "    }\n",
       "</style>\n",
       "<table border=\"1\" class=\"dataframe\">\n",
       "  <thead>\n",
       "    <tr style=\"text-align: right;\">\n",
       "      <th></th>\n",
       "      <th>user_id</th>\n",
       "      <th>n_evaluation</th>\n",
       "    </tr>\n",
       "  </thead>\n",
       "  <tbody>\n",
       "    <tr>\n",
       "      <th>0</th>\n",
       "      <td>A00041408PB8URN3FSQ6</td>\n",
       "      <td>1</td>\n",
       "    </tr>\n",
       "    <tr>\n",
       "      <th>1</th>\n",
       "      <td>A0009988MRFQ3TROTQPI</td>\n",
       "      <td>2</td>\n",
       "    </tr>\n",
       "    <tr>\n",
       "      <th>2</th>\n",
       "      <td>A0015420M7GRKSKTW32Z</td>\n",
       "      <td>1</td>\n",
       "    </tr>\n",
       "    <tr>\n",
       "      <th>3</th>\n",
       "      <td>A0025284EDB2S5Q3G9PD</td>\n",
       "      <td>1</td>\n",
       "    </tr>\n",
       "    <tr>\n",
       "      <th>4</th>\n",
       "      <td>A002800078UB6PFVGW0Q</td>\n",
       "      <td>1</td>\n",
       "    </tr>\n",
       "  </tbody>\n",
       "</table>\n",
       "</div>"
      ],
      "text/plain": [
       "                user_id  n_evaluation\n",
       "0  A00041408PB8URN3FSQ6             1\n",
       "1  A0009988MRFQ3TROTQPI             2\n",
       "2  A0015420M7GRKSKTW32Z             1\n",
       "3  A0025284EDB2S5Q3G9PD             1\n",
       "4  A002800078UB6PFVGW0Q             1"
      ]
     },
     "execution_count": 5,
     "metadata": {},
     "output_type": "execute_result"
    }
   ],
   "source": [
    "nb_evaluations_par_utilisateur = digital_music[['user_id', 'product_asin']].groupby('user_id').count().reset_index()\n",
    "nb_evaluations_par_utilisateur.columns = ['user_id', 'n_evaluation']\n",
    "nb_evaluations_par_utilisateur.head()"
   ]
  },
  {
   "cell_type": "code",
   "execution_count": 6,
   "metadata": {},
   "outputs": [
    {
     "name": "stdout",
     "output_type": "stream",
     "text": [
      "Nombre moyen d'évaluations pour un utilisateur donné : 1.88\n"
     ]
    }
   ],
   "source": [
    "print(f\"Nombre moyen d'évaluations pour un utilisateur donné : {nb_evaluations_par_utilisateur['n_evaluation'].mean():.2f}\")"
   ]
  },
  {
   "cell_type": "markdown",
   "metadata": {},
   "source": [
    "## Visualiser la distribution des notes des films (rating dans le jeu de donnée et la distribution de la fréquence des notes des users"
   ]
  },
  {
   "cell_type": "code",
   "execution_count": 7,
   "metadata": {},
   "outputs": [
    {
     "data": {
      "image/png": "[encoded data removed]",
      "text/plain": [
       "<Figure size 1400x500 with 2 Axes>"
      ]
     },
     "metadata": {},
     "output_type": "display_data"
    }
   ],
   "source": [
    "sns.set_style(\"whitegrid\")\n",
    "plt.figure(figsize=(14,5))\n",
    "\n",
    "# Sous-graphique Distribution des évaluations des musiques\n",
    "plt.subplot(1,2,1)\n",
    "ax = sns.countplot(x=\"rating\", data=digital_music, palette=\"viridis\")\n",
    "plt.title(\"Distribution des évaluations des musiques\")\n",
    "\n",
    "# Sous-graphique Nombre de musiques évalués par utilisateur\n",
    "plt.subplot(1,2,2)\n",
    "ax = sns.kdeplot(nb_evaluations_par_utilisateur['n_evaluation'], shade=True, legend=False)\n",
    "plt.axvline(nb_evaluations_par_utilisateur['n_evaluation'].mean(), color=\"k\", linestyle=\"--\")\n",
    "plt.xlabel(\"Nombre d'évaluations par utilisateur\")\n",
    "plt.ylabel(\"Densité\")\n",
    "plt.title(\"Nombre de musiques évalués par utilisateur\")\n",
    "\n",
    "plt.show()"
   ]
  },
  {
   "cell_type": "markdown",
   "metadata": {},
   "source": [
    "## Quels sont les films les mieux et les moins bien notés ?\n",
    "\n",
    "## Pour trouver les « meilleurs » et les « pires » films, vous devez calculer la note moyenne de chaque film de notre ensemble de données. \n",
    "## Nous pouvons le faire en regroupant par movieId et en calculant la moyenne de la colonne « rating »."
   ]
  },
  {
   "cell_type": "code",
   "execution_count": 8,
   "metadata": {},
   "outputs": [
    {
     "data": {
      "text/html": [
       "<div>\n",
       "<style scoped>\n",
       "    .dataframe tbody tr th:only-of-type {\n",
       "        vertical-align: middle;\n",
       "    }\n",
       "\n",
       "    .dataframe tbody tr th {\n",
       "        vertical-align: top;\n",
       "    }\n",
       "\n",
       "    .dataframe thead th {\n",
       "        text-align: right;\n",
       "    }\n",
       "</style>\n",
       "<table border=\"1\" class=\"dataframe\">\n",
       "  <thead>\n",
       "    <tr style=\"text-align: right;\">\n",
       "      <th></th>\n",
       "      <th>rating</th>\n",
       "    </tr>\n",
       "    <tr>\n",
       "      <th>product_asin</th>\n",
       "      <th></th>\n",
       "    </tr>\n",
       "  </thead>\n",
       "  <tbody>\n",
       "    <tr>\n",
       "      <th>0001377647</th>\n",
       "      <td>5.000000</td>\n",
       "    </tr>\n",
       "    <tr>\n",
       "      <th>0001388703</th>\n",
       "      <td>4.571429</td>\n",
       "    </tr>\n",
       "    <tr>\n",
       "      <th>0001526146</th>\n",
       "      <td>4.891304</td>\n",
       "    </tr>\n",
       "    <tr>\n",
       "      <th>0001527134</th>\n",
       "      <td>4.878788</td>\n",
       "    </tr>\n",
       "    <tr>\n",
       "      <th>0001529145</th>\n",
       "      <td>5.000000</td>\n",
       "    </tr>\n",
       "  </tbody>\n",
       "</table>\n",
       "</div>"
      ],
      "text/plain": [
       "                rating\n",
       "product_asin          \n",
       "0001377647    5.000000\n",
       "0001388703    4.571429\n",
       "0001526146    4.891304\n",
       "0001527134    4.878788\n",
       "0001529145    5.000000"
      ]
     },
     "execution_count": 8,
     "metadata": {},
     "output_type": "execute_result"
    }
   ],
   "source": [
    "moyenne_par_digital_music = digital_music.groupby('product_asin')[['rating']].mean()\n",
    "moyenne_par_digital_music.head()\n",
    "\n"
   ]
  },
  {
   "cell_type": "markdown",
   "metadata": {},
   "source": [
    "## Quels sont les films les mieux notés et les moins bien notés ?"
   ]
  },
  {
   "cell_type": "code",
   "execution_count": 11,
   "metadata": {},
   "outputs": [
    {
     "name": "stdout",
     "output_type": "stream",
     "text": [
      "https://www.amazon.com/dp/0970154275/\n"
     ]
    }
   ],
   "source": [
    "lowest_rated = moyenne_par_digital_music['rating'].idxmin()\n",
    "print(\"https://www.amazon.com/dp/\" + lowest_rated + \"/\")"
   ]
  },
  {
   "cell_type": "code",
   "execution_count": 12,
   "metadata": {},
   "outputs": [
    {
     "name": "stdout",
     "output_type": "stream",
     "text": [
      "https://www.amazon.com/dp/0001377647/\n"
     ]
    }
   ],
   "source": [
    "highest_rated = moyenne_par_digital_music['rating'].idxmax()\n",
    "print(\"https://www.amazon.com/dp/\" + highest_rated + \"/\")"
   ]
  },
  {
   "cell_type": "markdown",
   "metadata": {},
   "source": [
    "## Qui a noté ce film?"
   ]
  },
  {
   "cell_type": "code",
   "execution_count": 13,
   "metadata": {},
   "outputs": [
    {
     "data": {
      "text/html": [
       "<div>\n",
       "<style scoped>\n",
       "    .dataframe tbody tr th:only-of-type {\n",
       "        vertical-align: middle;\n",
       "    }\n",
       "\n",
       "    .dataframe tbody tr th {\n",
       "        vertical-align: top;\n",
       "    }\n",
       "\n",
       "    .dataframe thead th {\n",
       "        text-align: right;\n",
       "    }\n",
       "</style>\n",
       "<table border=\"1\" class=\"dataframe\">\n",
       "  <thead>\n",
       "    <tr style=\"text-align: right;\">\n",
       "      <th></th>\n",
       "      <th>product_asin</th>\n",
       "      <th>user_id</th>\n",
       "      <th>rating</th>\n",
       "      <th>timestamp</th>\n",
       "    </tr>\n",
       "  </thead>\n",
       "  <tbody>\n",
       "    <tr>\n",
       "      <th>78</th>\n",
       "      <td>0001377647</td>\n",
       "      <td>A1UNS26W21A9C2</td>\n",
       "      <td>5.0</td>\n",
       "      <td>1330128000</td>\n",
       "    </tr>\n",
       "    <tr>\n",
       "      <th>79</th>\n",
       "      <td>0001377647</td>\n",
       "      <td>AWQEC86BVMVFR</td>\n",
       "      <td>5.0</td>\n",
       "      <td>1326326400</td>\n",
       "    </tr>\n",
       "    <tr>\n",
       "      <th>80</th>\n",
       "      <td>0001377647</td>\n",
       "      <td>A21OOZLUPQ54TP</td>\n",
       "      <td>5.0</td>\n",
       "      <td>1320278400</td>\n",
       "    </tr>\n",
       "    <tr>\n",
       "      <th>81</th>\n",
       "      <td>0001377647</td>\n",
       "      <td>A1DQ8DBAGVUK6O</td>\n",
       "      <td>5.0</td>\n",
       "      <td>1319500800</td>\n",
       "    </tr>\n",
       "    <tr>\n",
       "      <th>82</th>\n",
       "      <td>0001377647</td>\n",
       "      <td>A282OUUS7CG31A</td>\n",
       "      <td>5.0</td>\n",
       "      <td>1316217600</td>\n",
       "    </tr>\n",
       "    <tr>\n",
       "      <th>83</th>\n",
       "      <td>0001377647</td>\n",
       "      <td>A2A5RH6MNBEKZ3</td>\n",
       "      <td>5.0</td>\n",
       "      <td>1312416000</td>\n",
       "    </tr>\n",
       "    <tr>\n",
       "      <th>84</th>\n",
       "      <td>0001377647</td>\n",
       "      <td>A3GKE1YI25SMCY</td>\n",
       "      <td>5.0</td>\n",
       "      <td>1224633600</td>\n",
       "    </tr>\n",
       "    <tr>\n",
       "      <th>85</th>\n",
       "      <td>0001377647</td>\n",
       "      <td>A3FVAWZNKW9GX</td>\n",
       "      <td>5.0</td>\n",
       "      <td>1205193600</td>\n",
       "    </tr>\n",
       "    <tr>\n",
       "      <th>86</th>\n",
       "      <td>0001377647</td>\n",
       "      <td>A2D4F0TFO6MW59</td>\n",
       "      <td>5.0</td>\n",
       "      <td>1196380800</td>\n",
       "    </tr>\n",
       "    <tr>\n",
       "      <th>87</th>\n",
       "      <td>0001377647</td>\n",
       "      <td>A3GO1X2NHJPXJP</td>\n",
       "      <td>5.0</td>\n",
       "      <td>1446595200</td>\n",
       "    </tr>\n",
       "    <tr>\n",
       "      <th>88</th>\n",
       "      <td>0001377647</td>\n",
       "      <td>A3ZCIEUX68DEZ</td>\n",
       "      <td>5.0</td>\n",
       "      <td>1444089600</td>\n",
       "    </tr>\n",
       "    <tr>\n",
       "      <th>89</th>\n",
       "      <td>0001377647</td>\n",
       "      <td>A2YGA3G7OFAQI9</td>\n",
       "      <td>5.0</td>\n",
       "      <td>1438128000</td>\n",
       "    </tr>\n",
       "    <tr>\n",
       "      <th>90</th>\n",
       "      <td>0001377647</td>\n",
       "      <td>A26AUQQ9Y5FUOD</td>\n",
       "      <td>5.0</td>\n",
       "      <td>1433289600</td>\n",
       "    </tr>\n",
       "    <tr>\n",
       "      <th>91</th>\n",
       "      <td>0001377647</td>\n",
       "      <td>A2FT6VVGKCK468</td>\n",
       "      <td>5.0</td>\n",
       "      <td>1427328000</td>\n",
       "    </tr>\n",
       "    <tr>\n",
       "      <th>92</th>\n",
       "      <td>0001377647</td>\n",
       "      <td>A321F4IOZXE31Y</td>\n",
       "      <td>5.0</td>\n",
       "      <td>1424390400</td>\n",
       "    </tr>\n",
       "    <tr>\n",
       "      <th>93</th>\n",
       "      <td>0001377647</td>\n",
       "      <td>A3IPU6Q20UACHA</td>\n",
       "      <td>5.0</td>\n",
       "      <td>1420934400</td>\n",
       "    </tr>\n",
       "    <tr>\n",
       "      <th>94</th>\n",
       "      <td>0001377647</td>\n",
       "      <td>AFTXO8V1RN3KD</td>\n",
       "      <td>5.0</td>\n",
       "      <td>1419033600</td>\n",
       "    </tr>\n",
       "    <tr>\n",
       "      <th>95</th>\n",
       "      <td>0001377647</td>\n",
       "      <td>A38XIRUW0J36KQ</td>\n",
       "      <td>5.0</td>\n",
       "      <td>1413763200</td>\n",
       "    </tr>\n",
       "    <tr>\n",
       "      <th>96</th>\n",
       "      <td>0001377647</td>\n",
       "      <td>A12YDDYA49UL01</td>\n",
       "      <td>5.0</td>\n",
       "      <td>1410220800</td>\n",
       "    </tr>\n",
       "    <tr>\n",
       "      <th>97</th>\n",
       "      <td>0001377647</td>\n",
       "      <td>A1NA7SPTRM2AXY</td>\n",
       "      <td>5.0</td>\n",
       "      <td>1406678400</td>\n",
       "    </tr>\n",
       "    <tr>\n",
       "      <th>98</th>\n",
       "      <td>0001377647</td>\n",
       "      <td>A2SH1KUPIWHLSR</td>\n",
       "      <td>5.0</td>\n",
       "      <td>1404432000</td>\n",
       "    </tr>\n",
       "    <tr>\n",
       "      <th>99</th>\n",
       "      <td>0001377647</td>\n",
       "      <td>A1EV2KOOUL5FVE</td>\n",
       "      <td>5.0</td>\n",
       "      <td>1401062400</td>\n",
       "    </tr>\n",
       "    <tr>\n",
       "      <th>100</th>\n",
       "      <td>0001377647</td>\n",
       "      <td>A2F9I7CI9GWANO</td>\n",
       "      <td>5.0</td>\n",
       "      <td>1400112000</td>\n",
       "    </tr>\n",
       "    <tr>\n",
       "      <th>101</th>\n",
       "      <td>0001377647</td>\n",
       "      <td>A38LZE0HYQIXQT</td>\n",
       "      <td>5.0</td>\n",
       "      <td>1395792000</td>\n",
       "    </tr>\n",
       "    <tr>\n",
       "      <th>102</th>\n",
       "      <td>0001377647</td>\n",
       "      <td>A2OV4AF3WCPPJO</td>\n",
       "      <td>5.0</td>\n",
       "      <td>1388707200</td>\n",
       "    </tr>\n",
       "    <tr>\n",
       "      <th>103</th>\n",
       "      <td>0001377647</td>\n",
       "      <td>ARYG1TWJE16W4</td>\n",
       "      <td>5.0</td>\n",
       "      <td>1388707200</td>\n",
       "    </tr>\n",
       "    <tr>\n",
       "      <th>104</th>\n",
       "      <td>0001377647</td>\n",
       "      <td>A18THP5MFMK7CO</td>\n",
       "      <td>5.0</td>\n",
       "      <td>1383696000</td>\n",
       "    </tr>\n",
       "    <tr>\n",
       "      <th>105</th>\n",
       "      <td>0001377647</td>\n",
       "      <td>A32ADUOQJB0MSP</td>\n",
       "      <td>5.0</td>\n",
       "      <td>1373760000</td>\n",
       "    </tr>\n",
       "    <tr>\n",
       "      <th>106</th>\n",
       "      <td>0001377647</td>\n",
       "      <td>A1SX509OERNCPV</td>\n",
       "      <td>5.0</td>\n",
       "      <td>1366761600</td>\n",
       "    </tr>\n",
       "    <tr>\n",
       "      <th>599868</th>\n",
       "      <td>0001377647</td>\n",
       "      <td>A2O6YOERSGUA9K</td>\n",
       "      <td>5.0</td>\n",
       "      <td>1520208000</td>\n",
       "    </tr>\n",
       "    <tr>\n",
       "      <th>599869</th>\n",
       "      <td>0001377647</td>\n",
       "      <td>A28PS4T584NTC6</td>\n",
       "      <td>5.0</td>\n",
       "      <td>1509148800</td>\n",
       "    </tr>\n",
       "    <tr>\n",
       "      <th>599870</th>\n",
       "      <td>0001377647</td>\n",
       "      <td>A30L80G6A3ZK09</td>\n",
       "      <td>5.0</td>\n",
       "      <td>1493510400</td>\n",
       "    </tr>\n",
       "    <tr>\n",
       "      <th>599871</th>\n",
       "      <td>0001377647</td>\n",
       "      <td>A23LIAX4OI0AIA</td>\n",
       "      <td>5.0</td>\n",
       "      <td>1491436800</td>\n",
       "    </tr>\n",
       "    <tr>\n",
       "      <th>599872</th>\n",
       "      <td>0001377647</td>\n",
       "      <td>A1K63SPJ63O3XG</td>\n",
       "      <td>5.0</td>\n",
       "      <td>1484179200</td>\n",
       "    </tr>\n",
       "    <tr>\n",
       "      <th>599873</th>\n",
       "      <td>0001377647</td>\n",
       "      <td>ARIIESNCPQSYM</td>\n",
       "      <td>5.0</td>\n",
       "      <td>1469491200</td>\n",
       "    </tr>\n",
       "    <tr>\n",
       "      <th>599874</th>\n",
       "      <td>0001377647</td>\n",
       "      <td>AKQIBRCHEOUFV</td>\n",
       "      <td>5.0</td>\n",
       "      <td>1462406400</td>\n",
       "    </tr>\n",
       "    <tr>\n",
       "      <th>599875</th>\n",
       "      <td>0001377647</td>\n",
       "      <td>A1U2J1QFGBMEGI</td>\n",
       "      <td>5.0</td>\n",
       "      <td>1462147200</td>\n",
       "    </tr>\n",
       "    <tr>\n",
       "      <th>599876</th>\n",
       "      <td>0001377647</td>\n",
       "      <td>AD8GNWLP0XZF4</td>\n",
       "      <td>5.0</td>\n",
       "      <td>1458518400</td>\n",
       "    </tr>\n",
       "    <tr>\n",
       "      <th>599877</th>\n",
       "      <td>0001377647</td>\n",
       "      <td>AC1M6DQ9553OC</td>\n",
       "      <td>5.0</td>\n",
       "      <td>1447632000</td>\n",
       "    </tr>\n",
       "  </tbody>\n",
       "</table>\n",
       "</div>"
      ],
      "text/plain": [
       "       product_asin         user_id  rating   timestamp\n",
       "78       0001377647  A1UNS26W21A9C2     5.0  1330128000\n",
       "79       0001377647   AWQEC86BVMVFR     5.0  1326326400\n",
       "80       0001377647  A21OOZLUPQ54TP     5.0  1320278400\n",
       "81       0001377647  A1DQ8DBAGVUK6O     5.0  1319500800\n",
       "82       0001377647  A282OUUS7CG31A     5.0  1316217600\n",
       "83       0001377647  A2A5RH6MNBEKZ3     5.0  1312416000\n",
       "84       0001377647  A3GKE1YI25SMCY     5.0  1224633600\n",
       "85       0001377647   A3FVAWZNKW9GX     5.0  1205193600\n",
       "86       0001377647  A2D4F0TFO6MW59     5.0  1196380800\n",
       "87       0001377647  A3GO1X2NHJPXJP     5.0  1446595200\n",
       "88       0001377647   A3ZCIEUX68DEZ     5.0  1444089600\n",
       "89       0001377647  A2YGA3G7OFAQI9     5.0  1438128000\n",
       "90       0001377647  A26AUQQ9Y5FUOD     5.0  1433289600\n",
       "91       0001377647  A2FT6VVGKCK468     5.0  1427328000\n",
       "92       0001377647  A321F4IOZXE31Y     5.0  1424390400\n",
       "93       0001377647  A3IPU6Q20UACHA     5.0  1420934400\n",
       "94       0001377647   AFTXO8V1RN3KD     5.0  1419033600\n",
       "95       0001377647  A38XIRUW0J36KQ     5.0  1413763200\n",
       "96       0001377647  A12YDDYA49UL01     5.0  1410220800\n",
       "97       0001377647  A1NA7SPTRM2AXY     5.0  1406678400\n",
       "98       0001377647  A2SH1KUPIWHLSR     5.0  1404432000\n",
       "99       0001377647  A1EV2KOOUL5FVE     5.0  1401062400\n",
       "100      0001377647  A2F9I7CI9GWANO     5.0  1400112000\n",
       "101      0001377647  A38LZE0HYQIXQT     5.0  1395792000\n",
       "102      0001377647  A2OV4AF3WCPPJO     5.0  1388707200\n",
       "103      0001377647   ARYG1TWJE16W4     5.0  1388707200\n",
       "104      0001377647  A18THP5MFMK7CO     5.0  1383696000\n",
       "105      0001377647  A32ADUOQJB0MSP     5.0  1373760000\n",
       "106      0001377647  A1SX509OERNCPV     5.0  1366761600\n",
       "599868   0001377647  A2O6YOERSGUA9K     5.0  1520208000\n",
       "599869   0001377647  A28PS4T584NTC6     5.0  1509148800\n",
       "599870   0001377647  A30L80G6A3ZK09     5.0  1493510400\n",
       "599871   0001377647  A23LIAX4OI0AIA     5.0  1491436800\n",
       "599872   0001377647  A1K63SPJ63O3XG     5.0  1484179200\n",
       "599873   0001377647   ARIIESNCPQSYM     5.0  1469491200\n",
       "599874   0001377647   AKQIBRCHEOUFV     5.0  1462406400\n",
       "599875   0001377647  A1U2J1QFGBMEGI     5.0  1462147200\n",
       "599876   0001377647   AD8GNWLP0XZF4     5.0  1458518400\n",
       "599877   0001377647   AC1M6DQ9553OC     5.0  1447632000"
      ]
     },
     "execution_count": 13,
     "metadata": {},
     "output_type": "execute_result"
    }
   ],
   "source": [
    "digital_music[digital_music['product_asin']==highest_rated]"
   ]
  },
  {
   "cell_type": "code",
   "execution_count": 14,
   "metadata": {},
   "outputs": [
    {
     "data": {
      "text/html": [
       "<div>\n",
       "<style scoped>\n",
       "    .dataframe tbody tr th:only-of-type {\n",
       "        vertical-align: middle;\n",
       "    }\n",
       "\n",
       "    .dataframe tbody tr th {\n",
       "        vertical-align: top;\n",
       "    }\n",
       "\n",
       "    .dataframe thead th {\n",
       "        text-align: right;\n",
       "    }\n",
       "</style>\n",
       "<table border=\"1\" class=\"dataframe\">\n",
       "  <thead>\n",
       "    <tr style=\"text-align: right;\">\n",
       "      <th></th>\n",
       "      <th>product_asin</th>\n",
       "      <th>user_id</th>\n",
       "      <th>rating</th>\n",
       "      <th>timestamp</th>\n",
       "    </tr>\n",
       "  </thead>\n",
       "  <tbody>\n",
       "    <tr>\n",
       "      <th>754042</th>\n",
       "      <td>0970154275</td>\n",
       "      <td>AXI2BSATIKPCQ</td>\n",
       "      <td>1.0</td>\n",
       "      <td>1517356800</td>\n",
       "    </tr>\n",
       "  </tbody>\n",
       "</table>\n",
       "</div>"
      ],
      "text/plain": [
       "       product_asin        user_id  rating   timestamp\n",
       "754042   0970154275  AXI2BSATIKPCQ     1.0  1517356800"
      ]
     },
     "execution_count": 14,
     "metadata": {},
     "output_type": "execute_result"
    }
   ],
   "source": [
    "digital_music[digital_music['product_asin']==lowest_rated]"
   ]
  },
  {
   "cell_type": "markdown",
   "metadata": {},
   "source": [
    "### Le film avec la note moyenne la plus élevée n'a reçu que 2 notes. Ce n'est pas une bonne mesure de la popularité d'un film. La qualité de l'évaluation d'un film dépend non seulement de la note moyenne, mais aussi du nombre d'évaluations."
   ]
  },
  {
   "cell_type": "markdown",
   "metadata": {},
   "source": [
    "### Calculons la Moyenne bayésienne\n",
    "### Nous devons d'abord obtenir le nombre et la moyenne pour chaque film. Nous pouvons le faire avec un groupby qui applique à la fois la moyenne et le nombre à l'aide de la méthode agg.\n",
    "\n",
    "\n",
    "### ri = (Cx m + somme(ratings))/C+N\n",
    "\n"
   ]
  },
  {
   "cell_type": "code",
   "execution_count": null,
   "metadata": {},
   "outputs": [],
   "source": [
    "# movie_stats = ratings.groupby('movieId')[['rating']].agg(['count', 'mean'])\n",
    "# movie_stats.columns = movie_stats.columns.droplevel()"
   ]
  },
  {
   "cell_type": "code",
   "execution_count": null,
   "metadata": {},
   "outputs": [],
   "source": [
    "# C = movie_stats['count'].mean()\n",
    "# m = movie_stats['mean'].mean()\n",
    "\n",
    "# def bayesian_avg(ratings):\n",
    "#     bayesian_avg = (C*m+ratings.sum())/(C+ratings.count())\n",
    "#     return bayesian_avg\n",
    "\n",
    "# bayesian_avg_ratings = ratings.groupby('movieId')['rating'].agg(bayesian_avg).reset_index()\n",
    "# bayesian_avg_ratings.columns = ['movieId', 'bayesian_avg']\n",
    "# movie_stats = movie_stats.merge(bayesian_avg_ratings, on='movieId')\n"
   ]
  },
  {
   "cell_type": "markdown",
   "metadata": {},
   "source": [
    "##  Quels sont les films avec la moyenne bayésienne  la plus élevée ?\n",
    "\n",
    "\n"
   ]
  },
  {
   "cell_type": "code",
   "execution_count": null,
   "metadata": {},
   "outputs": [],
   "source": [
    "# movie_stats = movie_stats.merge(movies[['movieId', 'title']])\n",
    "# movie_stats.sort_values('bayesian_avg', ascending=False).head()"
   ]
  },
  {
   "cell_type": "markdown",
   "metadata": {},
   "source": [
    "## En utilisant les moyennes bayésiennes, nous pouvons constater que le film n'est plus en tête du classement."
   ]
  },
  {
   "cell_type": "code",
   "execution_count": null,
   "metadata": {},
   "outputs": [],
   "source": [
    "# movie_stats.sort_values('bayesian_avg', ascending=True).head()"
   ]
  },
  {
   "cell_type": "markdown",
   "metadata": {},
   "source": [
    "## 2. Transformation des données\n",
    "### Besoin de transformer les données en matrice utilisateur-item pour le filtrage collaboratif scipy.sparse_matrix : les colonnes sont des films et les lignes des utilisateurs\n",
    "### Chaque cellule est remplie avec l'évaluation d'un utilisateur par rapport à un film\n",
    "### Cellule vide = pas d'évaluation disponible"
   ]
  },
  {
   "cell_type": "code",
   "execution_count": null,
   "metadata": {},
   "outputs": [],
   "source": [
    "from scipy.sparse import csr_matrix\n",
    "\n",
    "def creer_X(df):\n",
    "    \"\"\"\n",
    "    Génère une matrice creuse à partir du DataFrame des évaluations.\n",
    "    \n",
    "    Arguments:\n",
    "        df: DataFrame pandas\n",
    "    \n",
    "    Retourne:\n",
    "        X: matrice creuse\n",
    "        utilisateur_mapper: dictionnaire qui associe les identifiants d'utilisateurs aux indices des utilisateurs\n",
    "        utilisateur_inv_mapper: dictionnaire qui associe les indices des utilisateurs aux identifiants des utilisateurs\n",
    "        film_mapper: dictionnaire qui associe les identifiants de films aux indices des films\n",
    "        film_inv_mapper: dictionnaire qui associe les indices des films aux identifiants des films\n",
    "    \"\"\"\n",
    "    N = df['user_id'].nunique()  # Nombre d'utilisateurs uniques\n",
    "    M = df['product_asin'].nunique()  # Nombre de films uniques\n",
    "\n",
    "    utilisateur_mapper = dict(zip(np.unique(df[\"user_id\"]), list(range(N))))  # Mapper des utilisateurs\n",
    "    film_mapper = dict(zip(np.unique(df[\"product_asin\"]), list(range(M))))  # Mapper des films\n",
    "    \n",
    "    utilisateur_inv_mapper = dict(zip(list(range(N)), np.unique(df[\"user_id\"])))  # Mapper inversé pour les utilisateurs\n",
    "    film_inv_mapper = dict(zip(list(range(M)), np.unique(df[\"product_asin\"])))  # Mapper inversé pour les films\n",
    "    \n",
    "    index_utilisateur = [utilisateur_mapper[i] for i in df['user_id']]  # Index des utilisateurs\n",
    "    index_film = [film_mapper[i] for i in df['product_asin']]  # Index des films\n",
    "\n",
    "    X = csr_matrix((df[\"rating\"], (index_film, index_utilisateur)), shape=(M, N))  # Création de la matrice creuse\n",
    "    \n",
    "    return X, utilisateur_mapper, film_mapper, utilisateur_inv_mapper, film_inv_mapper"
   ]
  },
  {
   "cell_type": "code",
   "execution_count": null,
   "metadata": {},
   "outputs": [],
   "source": [
    "X, user_mapper, movie_mapper, user_inv_mapper, movie_inv_mapper = creer_X(digital_music)\n"
   ]
  },
  {
   "cell_type": "markdown",
   "metadata": {},
   "source": [
    "## Calculons la Sparsity de la matrice"
   ]
  },
  {
   "cell_type": "code",
   "execution_count": null,
   "metadata": {},
   "outputs": [],
   "source": [
    "sparsity = X.count_nonzero()/(X.shape[0]*X.shape[1])\n",
    "\n",
    "print(f\"Matrix sparsity: {round(sparsity*100,2)}%\")\n"
   ]
  },
  {
   "cell_type": "markdown",
   "metadata": {},
   "source": [
    "## Pour sauvegarder notre matrice éparse en vue d'une analyse ultérieure, nous pouvons utiliser la méthode save_npz de scipy.sparse"
   ]
  },
  {
   "cell_type": "code",
   "execution_count": null,
   "metadata": {},
   "outputs": [],
   "source": [
    "from scipy.sparse import save_npz\n",
    "\n",
    "save_npz('user_item_matrix.npz', X)\n"
   ]
  },
  {
   "cell_type": "code",
   "execution_count": null,
   "metadata": {},
   "outputs": [],
   "source": [
    "from sklearn.neighbors import NearestNeighbors\n",
    "\n",
    "def find_similar_movies(movie_id, X, k, metric='cosine', show_distance=False):\n",
    "    \"\"\"\n",
    "    Finds k-nearest neighbours for a given movie id.\n",
    "    \n",
    "    Args:\n",
    "        movie_id: id of the movie of interest\n",
    "        X: user-item utility matrix\n",
    "        k: number of similar movies to retrieve\n",
    "        metric: distance metric for kNN calculations\n",
    "    \n",
    "    Returns:\n",
    "        list of k similar movie ID's\n",
    "    \"\"\"\n",
    "    neighbour_ids = []\n",
    "    \n",
    "    movie_ind = movie_mapper[movie_id]\n",
    "    movie_vec = X[movie_ind]\n",
    "    k+=1\n",
    "    kNN = NearestNeighbors(n_neighbors=k, algorithm=\"brute\", metric=metric)\n",
    "    kNN.fit(X)\n",
    "    if isinstance(movie_vec, (np.ndarray)):\n",
    "        movie_vec = movie_vec.reshape(1,-1)\n",
    "    neighbour = kNN.kneighbors(movie_vec, return_distance=show_distance)\n",
    "    for i in range(0,k):\n",
    "        n = neighbour.item(i)\n",
    "        neighbour_ids.append(movie_inv_mapper[n])\n",
    "    neighbour_ids.pop(0)\n",
    "    return neighbour_ids"
   ]
  },
  {
   "cell_type": "markdown",
   "metadata": {},
   "source": [
    "## 3. Trouver des films similaires avec k-Nearest Neighbours\n",
    "## Vous pouvez tester la fonction en lui transmettant un numéro de film (movieId). Créez un dictionnaire qui associe movieId au titre du film afin de mieux interpréter les résultats. Dans ce cas, movie_id = 1 correspond à Toy Story. Nous fixerons k = 10 et utiliserons la métrique par défaut, la similarité cosine. Cela signifie que nous recherchons les 10 films les plus similaires à Toy Story."
   ]
  },
  {
   "cell_type": "code",
   "execution_count": null,
   "metadata": {},
   "outputs": [],
   "source": [
    "music_asin = \"0001377647\"\n",
    "\n",
    "similar_ids = find_similar_movies(music_asin, X, k=5)\n",
    "\n",
    "\n",
    "print(\"Car vous avez écouté : \" + \"https://www.amazon.com/dp/\" + music_asin + \"/\")\n",
    "print(\"-----------------------------------------------------------------\")\n",
    "for i in similar_ids:\n",
    "    print(\" • Nous vous recommandons : \" + \"https://www.amazon.com/dp/\" + i + \"/\")\n"
   ]
  }
 ],
 "metadata": {
  "kernelspec": {
   "display_name": "Python 3 (ipykernel)",
   "language": "python",
   "name": "python3"
  },
  "language_info": {
   "codemirror_mode": {
    "name": "ipython",
    "version": 3
   },
   "file_extension": ".py",
   "mimetype": "text/x-python",
   "name": "python",
   "nbconvert_exporter": "python",
   "pygments_lexer": "ipython3",
   "version": "3.11.4"
  }
 },
 "nbformat": 4,
 "nbformat_minor": 4
}
